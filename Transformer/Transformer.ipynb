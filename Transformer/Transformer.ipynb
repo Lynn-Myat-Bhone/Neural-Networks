{
  "cells": [
    {
      "cell_type": "code",
      "execution_count": 50,
      "metadata": {
        "colab": {
          "base_uri": "https://localhost:8080/"
        },
        "id": "Wk_jAHjXRBOg",
        "outputId": "e2a34615-f1ad-489e-e571-a21f2acab003"
      },
      "outputs": [
        {
          "output_type": "stream",
          "name": "stdout",
          "text": [
            "--2025-03-01 05:32:33--  https://raw.githubusercontent.com/karpathy/char-rnn/master/data/tinyshakespeare/input.txt\n",
            "Resolving raw.githubusercontent.com (raw.githubusercontent.com)... 185.199.109.133, 185.199.108.133, 185.199.111.133, ...\n",
            "Connecting to raw.githubusercontent.com (raw.githubusercontent.com)|185.199.109.133|:443... connected.\n",
            "HTTP request sent, awaiting response... 200 OK\n",
            "Length: 1115394 (1.1M) [text/plain]\n",
            "Saving to: ‘input.txt.2’\n",
            "\n",
            "input.txt.2         100%[===================>]   1.06M  --.-KB/s    in 0.04s   \n",
            "\n",
            "2025-03-01 05:32:33 (30.3 MB/s) - ‘input.txt.2’ saved [1115394/1115394]\n",
            "\n"
          ]
        }
      ],
      "source": [
        "!wget https://raw.githubusercontent.com/karpathy/char-rnn/master/data/tinyshakespeare/input.txt\n"
      ]
    },
    {
      "cell_type": "code",
      "execution_count": 51,
      "metadata": {
        "colab": {
          "base_uri": "https://localhost:8080/"
        },
        "id": "ud_iLOX-RG4q",
        "outputId": "69d3361d-aaae-4dac-9141-3f70e41651b3"
      },
      "outputs": [
        {
          "output_type": "stream",
          "name": "stdout",
          "text": [
            "1115394\n"
          ]
        }
      ],
      "source": [
        "with open('input.txt','r',encoding='utf-8')as file:\n",
        "  text = file.read()\n",
        "print(len(text))"
      ]
    },
    {
      "cell_type": "code",
      "execution_count": 52,
      "metadata": {
        "colab": {
          "base_uri": "https://localhost:8080/"
        },
        "id": "KSKwPQogRQYS",
        "outputId": "4f2dec58-1077-4ca5-9973-ff1e0ad80561"
      },
      "outputs": [
        {
          "output_type": "stream",
          "name": "stdout",
          "text": [
            "\n",
            " !$&',-.3:;?ABCDEFGHIJKLMNOPQRSTUVWXYZabcdefghijklmnopqrstuvwxyz\n",
            "65\n"
          ]
        }
      ],
      "source": [
        "chars = sorted(list(set(text)))\n",
        "vocab_size = len(chars)\n",
        "print(''.join(chars))\n",
        "print(len(chars))"
      ]
    },
    {
      "cell_type": "code",
      "execution_count": 53,
      "metadata": {
        "colab": {
          "base_uri": "https://localhost:8080/"
        },
        "id": "LD-JlRcuRx23",
        "outputId": "8c00f79c-2d34-4686-f9af-fe2604edf9b2"
      },
      "outputs": [
        {
          "output_type": "stream",
          "name": "stdout",
          "text": [
            "[46, 47, 47, 1, 58, 46, 43, 56, 43]\n",
            "hii there\n"
          ]
        }
      ],
      "source": [
        "stoi = {ch:i for i,ch in enumerate(chars)}\n",
        "itos = {i:ch for i,ch in enumerate(chars)}\n",
        "encode = lambda s :[stoi[c] for c in s] # character level encoding....\n",
        "decode = lambda s :''.join([itos[c] for c in s]) # character level decoding...\n",
        "print(encode(\"hii there\"))\n",
        "print(decode(encode(\"hii there\")))"
      ]
    },
    {
      "cell_type": "code",
      "execution_count": 54,
      "metadata": {
        "colab": {
          "base_uri": "https://localhost:8080/"
        },
        "id": "7lU8Gxo3XzPg",
        "outputId": "a40ef928-17c8-4036-895d-d14abc799185"
      },
      "outputs": [
        {
          "output_type": "stream",
          "name": "stdout",
          "text": [
            "tensor([18, 47, 56, 57, 58,  1, 15, 47, 58, 47, 64, 43, 52, 10,  0, 14, 43, 44,\n",
            "        53, 56, 43,  1, 61, 43,  1, 54, 56, 53, 41, 43, 43, 42,  1, 39, 52, 63,\n",
            "         1, 44, 59, 56, 58, 46, 43, 56,  6,  1, 46, 43, 39, 56,  1, 51, 43,  1,\n",
            "        57, 54, 43, 39, 49,  8,  0,  0, 13, 50, 50, 10,  0, 31, 54, 43, 39, 49,\n",
            "         6,  1, 57, 54, 43, 39, 49,  8,  0,  0, 18, 47, 56, 57, 58,  1, 15, 47,\n",
            "        58, 47, 64, 43, 52, 10,  0, 37, 53, 59,  1, 39, 56, 43,  1, 39, 50, 50,\n",
            "         1, 56, 43, 57, 53, 50, 60, 43, 42,  1, 56, 39, 58, 46, 43, 56,  1, 58,\n",
            "        53,  1, 42, 47, 43,  1, 58, 46, 39, 52,  1, 58, 53,  1, 44, 39, 51, 47,\n",
            "        57, 46, 12,  0,  0, 13, 50, 50, 10,  0, 30, 43, 57, 53, 50, 60, 43, 42,\n",
            "         8,  1, 56, 43, 57, 53, 50, 60, 43, 42,  8,  0,  0, 18, 47, 56, 57, 58,\n",
            "         1, 15, 47, 58, 47, 64, 43, 52, 10,  0, 18, 47, 56, 57, 58,  6,  1, 63,\n",
            "        53, 59])\n",
            "torch.Size([1115394]) 1115394\n"
          ]
        }
      ],
      "source": [
        "import torch\n",
        "data = torch.tensor(encode(text),dtype=torch.long)\n",
        "print(data[:200])\n",
        "print(data.shape,len(data))"
      ]
    },
    {
      "cell_type": "code",
      "execution_count": 55,
      "metadata": {
        "id": "HjQ27hzLYOZ0"
      },
      "outputs": [],
      "source": [
        "#split the dataset\n",
        "n = int(0.9*len(data))\n",
        "train_set = data[:n]\n",
        "val_set = data[n:]"
      ]
    },
    {
      "cell_type": "code",
      "execution_count": 56,
      "metadata": {
        "colab": {
          "base_uri": "https://localhost:8080/"
        },
        "id": "F8GOahSiZVnm",
        "outputId": "198850ab-fd3f-476e-ba10-e5a21e6cb3a6"
      },
      "outputs": [
        {
          "output_type": "stream",
          "name": "stdout",
          "text": [
            "tensor([18]), the target is :47\n",
            "tensor([18, 47]), the target is :56\n",
            "tensor([18, 47, 56]), the target is :57\n",
            "tensor([18, 47, 56, 57]), the target is :58\n",
            "tensor([18, 47, 56, 57, 58]), the target is :1\n",
            "tensor([18, 47, 56, 57, 58,  1]), the target is :15\n",
            "tensor([18, 47, 56, 57, 58,  1, 15]), the target is :47\n",
            "tensor([18, 47, 56, 57, 58,  1, 15, 47]), the target is :58\n"
          ]
        }
      ],
      "source": [
        "block_size = 8 #chunk the trianing set\n",
        "x = train_set[:block_size]\n",
        "y = train_set[1:block_size+1]\n",
        "for t in range(block_size):\n",
        "  context = x[:t+1]\n",
        "  target = y[t]\n",
        "  print(f\"{context}, the target is :{target}\")"
      ]
    },
    {
      "cell_type": "code",
      "execution_count": 57,
      "metadata": {
        "colab": {
          "base_uri": "https://localhost:8080/"
        },
        "id": "1tWWmRbDZj2e",
        "outputId": "557d788c-8dd5-4a99-b19b-8c1f61cc1e13"
      },
      "outputs": [
        {
          "output_type": "stream",
          "name": "stdout",
          "text": [
            "inputs:\n",
            "torch.Size([32, 8])\n",
            "tensor([[24, 43, 58,  5, 57,  1, 46, 43],\n",
            "        [44, 53, 56,  1, 58, 46, 39, 58],\n",
            "        [52, 58,  1, 58, 46, 39, 58,  1],\n",
            "        [25, 17, 27, 10,  0, 21,  1, 54],\n",
            "        [57, 43, 60, 43, 52,  1, 63, 43],\n",
            "        [60, 43, 42,  8,  0, 25, 63,  1],\n",
            "        [56, 42,  5, 57,  1, 57, 39, 49],\n",
            "        [43, 57, 58, 63,  6,  1, 58, 46],\n",
            "        [43,  1, 51, 39, 63,  1, 40, 43],\n",
            "        [58, 46, 43,  1, 43, 39, 56, 57],\n",
            "        [39, 58, 47, 53, 52, 12,  1, 37],\n",
            "        [53, 56, 43,  1, 21,  1, 41, 39],\n",
            "        [50, 39, 52, 63,  1, 47, 58, 57],\n",
            "        [56, 53, 63,  1, 42, 47, 42,  1],\n",
            "        [39, 51,  1, 39, 44, 56, 39, 47],\n",
            "        [17, 24, 21, 38, 13, 14, 17, 32],\n",
            "        [ 1, 39, 52, 42,  1, 45, 43, 50],\n",
            "        [ 1, 58, 46, 39, 58,  1, 42, 53],\n",
            "        [ 1, 61, 53, 59, 50, 42,  1, 21],\n",
            "        [59, 57, 40, 39, 52, 42,  1, 40],\n",
            "        [52, 42,  8,  0,  0, 23, 21, 26],\n",
            "        [45, 53, 42, 57,  0, 23, 43, 43],\n",
            "        [52,  1, 61, 39, 57,  1, 51, 53],\n",
            "        [39, 49, 12,  1, 27,  1, 58, 56],\n",
            "        [53, 44,  1, 57, 54, 43, 43, 41],\n",
            "        [57, 53, 52, 57,  8,  0,  0, 25],\n",
            "        [ 1, 42, 43, 44, 43, 41, 58,  1],\n",
            "        [21,  1, 61, 39, 52, 42, 43, 56],\n",
            "        [43, 43, 51,  5, 42,  1, 40, 59],\n",
            "        [45, 50, 63,  1, 52, 53, 61, 12],\n",
            "        [52, 53, 58,  8,  0, 25, 63,  1],\n",
            "        [53, 58,  6,  1, 51, 63,  1, 50]])\n",
            "targets:\n",
            "torch.Size([32, 8])\n",
            "tensor([[43, 58,  5, 57,  1, 46, 43, 39],\n",
            "        [53, 56,  1, 58, 46, 39, 58,  1],\n",
            "        [58,  1, 58, 46, 39, 58,  1, 46],\n",
            "        [17, 27, 10,  0, 21,  1, 54, 39],\n",
            "        [43, 60, 43, 52,  1, 63, 43, 39],\n",
            "        [43, 42,  8,  0, 25, 63,  1, 45],\n",
            "        [42,  5, 57,  1, 57, 39, 49, 43],\n",
            "        [57, 58, 63,  6,  1, 58, 46, 47],\n",
            "        [ 1, 51, 39, 63,  1, 40, 43,  1],\n",
            "        [46, 43,  1, 43, 39, 56, 57, 10],\n",
            "        [58, 47, 53, 52, 12,  1, 37, 53],\n",
            "        [56, 43,  1, 21,  1, 41, 39, 51],\n",
            "        [39, 52, 63,  1, 47, 58, 57, 43],\n",
            "        [53, 63,  1, 42, 47, 42,  1, 57],\n",
            "        [51,  1, 39, 44, 56, 39, 47, 42],\n",
            "        [24, 21, 38, 13, 14, 17, 32, 20],\n",
            "        [39, 52, 42,  1, 45, 43, 50, 42],\n",
            "        [58, 46, 39, 58,  1, 42, 53,  1],\n",
            "        [61, 53, 59, 50, 42,  1, 21,  1],\n",
            "        [57, 40, 39, 52, 42,  1, 40, 47],\n",
            "        [42,  8,  0,  0, 23, 21, 26, 19],\n",
            "        [53, 42, 57,  0, 23, 43, 43, 54],\n",
            "        [ 1, 61, 39, 57,  1, 51, 53, 56],\n",
            "        [49, 12,  1, 27,  1, 58, 56, 39],\n",
            "        [44,  1, 57, 54, 43, 43, 41, 46],\n",
            "        [53, 52, 57,  8,  0,  0, 25, 17],\n",
            "        [42, 43, 44, 43, 41, 58,  1, 53],\n",
            "        [ 1, 61, 39, 52, 42, 43, 56,  6],\n",
            "        [43, 51,  5, 42,  1, 40, 59, 56],\n",
            "        [50, 63,  1, 52, 53, 61, 12,  0],\n",
            "        [53, 58,  8,  0, 25, 63,  1, 61],\n",
            "        [58,  6,  1, 51, 63,  1, 50, 53]])\n",
            "----\n",
            "when input is [24] the target: 43\n",
            "when input is [24, 43] the target: 58\n",
            "when input is [24, 43, 58] the target: 5\n",
            "when input is [24, 43, 58, 5] the target: 57\n",
            "when input is [24, 43, 58, 5, 57] the target: 1\n",
            "when input is [24, 43, 58, 5, 57, 1] the target: 46\n",
            "when input is [24, 43, 58, 5, 57, 1, 46] the target: 43\n",
            "when input is [24, 43, 58, 5, 57, 1, 46, 43] the target: 39\n",
            "when input is [44] the target: 53\n",
            "when input is [44, 53] the target: 56\n",
            "when input is [44, 53, 56] the target: 1\n",
            "when input is [44, 53, 56, 1] the target: 58\n",
            "when input is [44, 53, 56, 1, 58] the target: 46\n",
            "when input is [44, 53, 56, 1, 58, 46] the target: 39\n",
            "when input is [44, 53, 56, 1, 58, 46, 39] the target: 58\n",
            "when input is [44, 53, 56, 1, 58, 46, 39, 58] the target: 1\n",
            "when input is [52] the target: 58\n",
            "when input is [52, 58] the target: 1\n",
            "when input is [52, 58, 1] the target: 58\n",
            "when input is [52, 58, 1, 58] the target: 46\n",
            "when input is [52, 58, 1, 58, 46] the target: 39\n",
            "when input is [52, 58, 1, 58, 46, 39] the target: 58\n",
            "when input is [52, 58, 1, 58, 46, 39, 58] the target: 1\n",
            "when input is [52, 58, 1, 58, 46, 39, 58, 1] the target: 46\n",
            "when input is [25] the target: 17\n",
            "when input is [25, 17] the target: 27\n",
            "when input is [25, 17, 27] the target: 10\n",
            "when input is [25, 17, 27, 10] the target: 0\n",
            "when input is [25, 17, 27, 10, 0] the target: 21\n",
            "when input is [25, 17, 27, 10, 0, 21] the target: 1\n",
            "when input is [25, 17, 27, 10, 0, 21, 1] the target: 54\n",
            "when input is [25, 17, 27, 10, 0, 21, 1, 54] the target: 39\n",
            "when input is [57] the target: 43\n",
            "when input is [57, 43] the target: 60\n",
            "when input is [57, 43, 60] the target: 43\n",
            "when input is [57, 43, 60, 43] the target: 52\n",
            "when input is [57, 43, 60, 43, 52] the target: 1\n",
            "when input is [57, 43, 60, 43, 52, 1] the target: 63\n",
            "when input is [57, 43, 60, 43, 52, 1, 63] the target: 43\n",
            "when input is [57, 43, 60, 43, 52, 1, 63, 43] the target: 39\n",
            "when input is [60] the target: 43\n",
            "when input is [60, 43] the target: 42\n",
            "when input is [60, 43, 42] the target: 8\n",
            "when input is [60, 43, 42, 8] the target: 0\n",
            "when input is [60, 43, 42, 8, 0] the target: 25\n",
            "when input is [60, 43, 42, 8, 0, 25] the target: 63\n",
            "when input is [60, 43, 42, 8, 0, 25, 63] the target: 1\n",
            "when input is [60, 43, 42, 8, 0, 25, 63, 1] the target: 45\n",
            "when input is [56] the target: 42\n",
            "when input is [56, 42] the target: 5\n",
            "when input is [56, 42, 5] the target: 57\n",
            "when input is [56, 42, 5, 57] the target: 1\n",
            "when input is [56, 42, 5, 57, 1] the target: 57\n",
            "when input is [56, 42, 5, 57, 1, 57] the target: 39\n",
            "when input is [56, 42, 5, 57, 1, 57, 39] the target: 49\n",
            "when input is [56, 42, 5, 57, 1, 57, 39, 49] the target: 43\n",
            "when input is [43] the target: 57\n",
            "when input is [43, 57] the target: 58\n",
            "when input is [43, 57, 58] the target: 63\n",
            "when input is [43, 57, 58, 63] the target: 6\n",
            "when input is [43, 57, 58, 63, 6] the target: 1\n",
            "when input is [43, 57, 58, 63, 6, 1] the target: 58\n",
            "when input is [43, 57, 58, 63, 6, 1, 58] the target: 46\n",
            "when input is [43, 57, 58, 63, 6, 1, 58, 46] the target: 47\n",
            "when input is [43] the target: 1\n",
            "when input is [43, 1] the target: 51\n",
            "when input is [43, 1, 51] the target: 39\n",
            "when input is [43, 1, 51, 39] the target: 63\n",
            "when input is [43, 1, 51, 39, 63] the target: 1\n",
            "when input is [43, 1, 51, 39, 63, 1] the target: 40\n",
            "when input is [43, 1, 51, 39, 63, 1, 40] the target: 43\n",
            "when input is [43, 1, 51, 39, 63, 1, 40, 43] the target: 1\n",
            "when input is [58] the target: 46\n",
            "when input is [58, 46] the target: 43\n",
            "when input is [58, 46, 43] the target: 1\n",
            "when input is [58, 46, 43, 1] the target: 43\n",
            "when input is [58, 46, 43, 1, 43] the target: 39\n",
            "when input is [58, 46, 43, 1, 43, 39] the target: 56\n",
            "when input is [58, 46, 43, 1, 43, 39, 56] the target: 57\n",
            "when input is [58, 46, 43, 1, 43, 39, 56, 57] the target: 10\n",
            "when input is [39] the target: 58\n",
            "when input is [39, 58] the target: 47\n",
            "when input is [39, 58, 47] the target: 53\n",
            "when input is [39, 58, 47, 53] the target: 52\n",
            "when input is [39, 58, 47, 53, 52] the target: 12\n",
            "when input is [39, 58, 47, 53, 52, 12] the target: 1\n",
            "when input is [39, 58, 47, 53, 52, 12, 1] the target: 37\n",
            "when input is [39, 58, 47, 53, 52, 12, 1, 37] the target: 53\n",
            "when input is [53] the target: 56\n",
            "when input is [53, 56] the target: 43\n",
            "when input is [53, 56, 43] the target: 1\n",
            "when input is [53, 56, 43, 1] the target: 21\n",
            "when input is [53, 56, 43, 1, 21] the target: 1\n",
            "when input is [53, 56, 43, 1, 21, 1] the target: 41\n",
            "when input is [53, 56, 43, 1, 21, 1, 41] the target: 39\n",
            "when input is [53, 56, 43, 1, 21, 1, 41, 39] the target: 51\n",
            "when input is [50] the target: 39\n",
            "when input is [50, 39] the target: 52\n",
            "when input is [50, 39, 52] the target: 63\n",
            "when input is [50, 39, 52, 63] the target: 1\n",
            "when input is [50, 39, 52, 63, 1] the target: 47\n",
            "when input is [50, 39, 52, 63, 1, 47] the target: 58\n",
            "when input is [50, 39, 52, 63, 1, 47, 58] the target: 57\n",
            "when input is [50, 39, 52, 63, 1, 47, 58, 57] the target: 43\n",
            "when input is [56] the target: 53\n",
            "when input is [56, 53] the target: 63\n",
            "when input is [56, 53, 63] the target: 1\n",
            "when input is [56, 53, 63, 1] the target: 42\n",
            "when input is [56, 53, 63, 1, 42] the target: 47\n",
            "when input is [56, 53, 63, 1, 42, 47] the target: 42\n",
            "when input is [56, 53, 63, 1, 42, 47, 42] the target: 1\n",
            "when input is [56, 53, 63, 1, 42, 47, 42, 1] the target: 57\n",
            "when input is [39] the target: 51\n",
            "when input is [39, 51] the target: 1\n",
            "when input is [39, 51, 1] the target: 39\n",
            "when input is [39, 51, 1, 39] the target: 44\n",
            "when input is [39, 51, 1, 39, 44] the target: 56\n",
            "when input is [39, 51, 1, 39, 44, 56] the target: 39\n",
            "when input is [39, 51, 1, 39, 44, 56, 39] the target: 47\n",
            "when input is [39, 51, 1, 39, 44, 56, 39, 47] the target: 42\n",
            "when input is [17] the target: 24\n",
            "when input is [17, 24] the target: 21\n",
            "when input is [17, 24, 21] the target: 38\n",
            "when input is [17, 24, 21, 38] the target: 13\n",
            "when input is [17, 24, 21, 38, 13] the target: 14\n",
            "when input is [17, 24, 21, 38, 13, 14] the target: 17\n",
            "when input is [17, 24, 21, 38, 13, 14, 17] the target: 32\n",
            "when input is [17, 24, 21, 38, 13, 14, 17, 32] the target: 20\n",
            "when input is [1] the target: 39\n",
            "when input is [1, 39] the target: 52\n",
            "when input is [1, 39, 52] the target: 42\n",
            "when input is [1, 39, 52, 42] the target: 1\n",
            "when input is [1, 39, 52, 42, 1] the target: 45\n",
            "when input is [1, 39, 52, 42, 1, 45] the target: 43\n",
            "when input is [1, 39, 52, 42, 1, 45, 43] the target: 50\n",
            "when input is [1, 39, 52, 42, 1, 45, 43, 50] the target: 42\n",
            "when input is [1] the target: 58\n",
            "when input is [1, 58] the target: 46\n",
            "when input is [1, 58, 46] the target: 39\n",
            "when input is [1, 58, 46, 39] the target: 58\n",
            "when input is [1, 58, 46, 39, 58] the target: 1\n",
            "when input is [1, 58, 46, 39, 58, 1] the target: 42\n",
            "when input is [1, 58, 46, 39, 58, 1, 42] the target: 53\n",
            "when input is [1, 58, 46, 39, 58, 1, 42, 53] the target: 1\n",
            "when input is [1] the target: 61\n",
            "when input is [1, 61] the target: 53\n",
            "when input is [1, 61, 53] the target: 59\n",
            "when input is [1, 61, 53, 59] the target: 50\n",
            "when input is [1, 61, 53, 59, 50] the target: 42\n",
            "when input is [1, 61, 53, 59, 50, 42] the target: 1\n",
            "when input is [1, 61, 53, 59, 50, 42, 1] the target: 21\n",
            "when input is [1, 61, 53, 59, 50, 42, 1, 21] the target: 1\n",
            "when input is [59] the target: 57\n",
            "when input is [59, 57] the target: 40\n",
            "when input is [59, 57, 40] the target: 39\n",
            "when input is [59, 57, 40, 39] the target: 52\n",
            "when input is [59, 57, 40, 39, 52] the target: 42\n",
            "when input is [59, 57, 40, 39, 52, 42] the target: 1\n",
            "when input is [59, 57, 40, 39, 52, 42, 1] the target: 40\n",
            "when input is [59, 57, 40, 39, 52, 42, 1, 40] the target: 47\n",
            "when input is [52] the target: 42\n",
            "when input is [52, 42] the target: 8\n",
            "when input is [52, 42, 8] the target: 0\n",
            "when input is [52, 42, 8, 0] the target: 0\n",
            "when input is [52, 42, 8, 0, 0] the target: 23\n",
            "when input is [52, 42, 8, 0, 0, 23] the target: 21\n",
            "when input is [52, 42, 8, 0, 0, 23, 21] the target: 26\n",
            "when input is [52, 42, 8, 0, 0, 23, 21, 26] the target: 19\n",
            "when input is [45] the target: 53\n",
            "when input is [45, 53] the target: 42\n",
            "when input is [45, 53, 42] the target: 57\n",
            "when input is [45, 53, 42, 57] the target: 0\n",
            "when input is [45, 53, 42, 57, 0] the target: 23\n",
            "when input is [45, 53, 42, 57, 0, 23] the target: 43\n",
            "when input is [45, 53, 42, 57, 0, 23, 43] the target: 43\n",
            "when input is [45, 53, 42, 57, 0, 23, 43, 43] the target: 54\n",
            "when input is [52] the target: 1\n",
            "when input is [52, 1] the target: 61\n",
            "when input is [52, 1, 61] the target: 39\n",
            "when input is [52, 1, 61, 39] the target: 57\n",
            "when input is [52, 1, 61, 39, 57] the target: 1\n",
            "when input is [52, 1, 61, 39, 57, 1] the target: 51\n",
            "when input is [52, 1, 61, 39, 57, 1, 51] the target: 53\n",
            "when input is [52, 1, 61, 39, 57, 1, 51, 53] the target: 56\n",
            "when input is [39] the target: 49\n",
            "when input is [39, 49] the target: 12\n",
            "when input is [39, 49, 12] the target: 1\n",
            "when input is [39, 49, 12, 1] the target: 27\n",
            "when input is [39, 49, 12, 1, 27] the target: 1\n",
            "when input is [39, 49, 12, 1, 27, 1] the target: 58\n",
            "when input is [39, 49, 12, 1, 27, 1, 58] the target: 56\n",
            "when input is [39, 49, 12, 1, 27, 1, 58, 56] the target: 39\n",
            "when input is [53] the target: 44\n",
            "when input is [53, 44] the target: 1\n",
            "when input is [53, 44, 1] the target: 57\n",
            "when input is [53, 44, 1, 57] the target: 54\n",
            "when input is [53, 44, 1, 57, 54] the target: 43\n",
            "when input is [53, 44, 1, 57, 54, 43] the target: 43\n",
            "when input is [53, 44, 1, 57, 54, 43, 43] the target: 41\n",
            "when input is [53, 44, 1, 57, 54, 43, 43, 41] the target: 46\n",
            "when input is [57] the target: 53\n",
            "when input is [57, 53] the target: 52\n",
            "when input is [57, 53, 52] the target: 57\n",
            "when input is [57, 53, 52, 57] the target: 8\n",
            "when input is [57, 53, 52, 57, 8] the target: 0\n",
            "when input is [57, 53, 52, 57, 8, 0] the target: 0\n",
            "when input is [57, 53, 52, 57, 8, 0, 0] the target: 25\n",
            "when input is [57, 53, 52, 57, 8, 0, 0, 25] the target: 17\n",
            "when input is [1] the target: 42\n",
            "when input is [1, 42] the target: 43\n",
            "when input is [1, 42, 43] the target: 44\n",
            "when input is [1, 42, 43, 44] the target: 43\n",
            "when input is [1, 42, 43, 44, 43] the target: 41\n",
            "when input is [1, 42, 43, 44, 43, 41] the target: 58\n",
            "when input is [1, 42, 43, 44, 43, 41, 58] the target: 1\n",
            "when input is [1, 42, 43, 44, 43, 41, 58, 1] the target: 53\n",
            "when input is [21] the target: 1\n",
            "when input is [21, 1] the target: 61\n",
            "when input is [21, 1, 61] the target: 39\n",
            "when input is [21, 1, 61, 39] the target: 52\n",
            "when input is [21, 1, 61, 39, 52] the target: 42\n",
            "when input is [21, 1, 61, 39, 52, 42] the target: 43\n",
            "when input is [21, 1, 61, 39, 52, 42, 43] the target: 56\n",
            "when input is [21, 1, 61, 39, 52, 42, 43, 56] the target: 6\n",
            "when input is [43] the target: 43\n",
            "when input is [43, 43] the target: 51\n",
            "when input is [43, 43, 51] the target: 5\n",
            "when input is [43, 43, 51, 5] the target: 42\n",
            "when input is [43, 43, 51, 5, 42] the target: 1\n",
            "when input is [43, 43, 51, 5, 42, 1] the target: 40\n",
            "when input is [43, 43, 51, 5, 42, 1, 40] the target: 59\n",
            "when input is [43, 43, 51, 5, 42, 1, 40, 59] the target: 56\n",
            "when input is [45] the target: 50\n",
            "when input is [45, 50] the target: 63\n",
            "when input is [45, 50, 63] the target: 1\n",
            "when input is [45, 50, 63, 1] the target: 52\n",
            "when input is [45, 50, 63, 1, 52] the target: 53\n",
            "when input is [45, 50, 63, 1, 52, 53] the target: 61\n",
            "when input is [45, 50, 63, 1, 52, 53, 61] the target: 12\n",
            "when input is [45, 50, 63, 1, 52, 53, 61, 12] the target: 0\n",
            "when input is [52] the target: 53\n",
            "when input is [52, 53] the target: 58\n",
            "when input is [52, 53, 58] the target: 8\n",
            "when input is [52, 53, 58, 8] the target: 0\n",
            "when input is [52, 53, 58, 8, 0] the target: 25\n",
            "when input is [52, 53, 58, 8, 0, 25] the target: 63\n",
            "when input is [52, 53, 58, 8, 0, 25, 63] the target: 1\n",
            "when input is [52, 53, 58, 8, 0, 25, 63, 1] the target: 61\n",
            "when input is [53] the target: 58\n",
            "when input is [53, 58] the target: 6\n",
            "when input is [53, 58, 6] the target: 1\n",
            "when input is [53, 58, 6, 1] the target: 51\n",
            "when input is [53, 58, 6, 1, 51] the target: 63\n",
            "when input is [53, 58, 6, 1, 51, 63] the target: 1\n",
            "when input is [53, 58, 6, 1, 51, 63, 1] the target: 50\n",
            "when input is [53, 58, 6, 1, 51, 63, 1, 50] the target: 53\n"
          ]
        }
      ],
      "source": [
        "torch.manual_seed(1337)\n",
        "batch_size = 32 # how many independent sequences will we process in parallel?\n",
        "def get_batch(split):\n",
        "    # generate a small batch of data of inputs x and targets y\n",
        "    data = train_set if split =='train' else val_set\n",
        "    ix = torch.randint(len(data)-block_size,(batch_size,))\n",
        "    x = torch.stack([data[i:i+block_size] for i in ix])\n",
        "    y = torch.stack([data[i+1:i+block_size+1] for i in ix])\n",
        "    return x,y\n",
        "xb, yb = get_batch('train')\n",
        "print('inputs:')\n",
        "print(xb.shape)\n",
        "print(xb)\n",
        "print('targets:')\n",
        "print(yb.shape)\n",
        "print(yb)\n",
        "\n",
        "print('----')\n",
        "\n",
        "for b in range(batch_size): # batch dimension\n",
        "    for t in range(block_size): # time dimension\n",
        "        context = xb[b, :t+1]\n",
        "        target = yb[b,t]\n",
        "        print(f\"when input is {context.tolist()} the target: {target}\")"
      ]
    },
    {
      "cell_type": "code",
      "source": [
        "n_embd = 384\n",
        "class Head(nn.Module):\n",
        "  def __init__(self, head_size):\n",
        "    super().__init__()\n",
        "    self.key = nn.Linear(n_embd,head_size,bias = False)\n",
        "    self.query = nn.Linear(n_embd,head_size,bias = False)\n",
        "    self.value = nn.Linear(n_embd,head_size,bias = False)\n",
        "    self.register_buffer('tril', torch.tril(torch.ones(block_size, block_size)))\n",
        "\n",
        "  def forward(self,x):\n",
        "    B,T,C = x.shape\n",
        "    k = self.key(x)\n",
        "    q = self.query(x)\n",
        "    v = self.value(x)\n",
        "    wei = q @ k.transpose(-2,-1) * k.shape[-1]**-0.5\n",
        "    wei = wei.mask_fill(self.tril[:T,:T] == 0,float('-inf'))\n",
        "    wei = F.softmax(wei)\n",
        "    out = wei @ v\n",
        "    return out"
      ],
      "metadata": {
        "id": "-109edVS68-Y"
      },
      "execution_count": 68,
      "outputs": []
    },
    {
      "cell_type": "code",
      "source": [
        "device = 'cuda' if torch.cuda.is_available() else 'cpu'"
      ],
      "metadata": {
        "id": "NnJGY4x2L85v"
      },
      "execution_count": 59,
      "outputs": []
    },
    {
      "cell_type": "code",
      "execution_count": 69,
      "metadata": {
        "colab": {
          "base_uri": "https://localhost:8080/",
          "height": 369
        },
        "id": "1UcOPpOJsbpb",
        "outputId": "9863f5e8-daec-4f22-9b5e-a4ebe4fa32a3"
      },
      "outputs": [
        {
          "output_type": "error",
          "ename": "RuntimeError",
          "evalue": "The size of tensor a (65) must match the size of tensor b (384) at non-singleton dimension 2",
          "traceback": [
            "\u001b[0;31m---------------------------------------------------------------------------\u001b[0m",
            "\u001b[0;31mRuntimeError\u001b[0m                              Traceback (most recent call last)",
            "\u001b[0;32m<ipython-input-69-69c98a6cc1ee>\u001b[0m in \u001b[0;36m<cell line: 0>\u001b[0;34m()\u001b[0m\n\u001b[1;32m     50\u001b[0m \u001b[0mvocab_size\u001b[0m \u001b[0;34m=\u001b[0m \u001b[0mlen\u001b[0m\u001b[0;34m(\u001b[0m\u001b[0mchars\u001b[0m\u001b[0;34m)\u001b[0m\u001b[0;34m\u001b[0m\u001b[0;34m\u001b[0m\u001b[0m\n\u001b[1;32m     51\u001b[0m \u001b[0mm\u001b[0m \u001b[0;34m=\u001b[0m \u001b[0mBigramLanguageModel\u001b[0m\u001b[0;34m(\u001b[0m\u001b[0mvocab_size\u001b[0m\u001b[0;34m)\u001b[0m\u001b[0;34m\u001b[0m\u001b[0;34m\u001b[0m\u001b[0m\n\u001b[0;32m---> 52\u001b[0;31m \u001b[0mlogits\u001b[0m \u001b[0;34m,\u001b[0m \u001b[0mloss\u001b[0m \u001b[0;34m=\u001b[0m \u001b[0mm\u001b[0m\u001b[0;34m(\u001b[0m\u001b[0mxb\u001b[0m\u001b[0;34m,\u001b[0m\u001b[0myb\u001b[0m\u001b[0;34m)\u001b[0m\u001b[0;34m\u001b[0m\u001b[0;34m\u001b[0m\u001b[0m\n\u001b[0m\u001b[1;32m     53\u001b[0m \u001b[0mprint\u001b[0m\u001b[0;34m(\u001b[0m\u001b[0mlogits\u001b[0m\u001b[0;34m.\u001b[0m\u001b[0mshape\u001b[0m\u001b[0;34m)\u001b[0m\u001b[0;34m\u001b[0m\u001b[0;34m\u001b[0m\u001b[0m\n\u001b[1;32m     54\u001b[0m \u001b[0mprint\u001b[0m\u001b[0;34m(\u001b[0m\u001b[0mloss\u001b[0m\u001b[0;34m)\u001b[0m\u001b[0;34m\u001b[0m\u001b[0;34m\u001b[0m\u001b[0m\n",
            "\u001b[0;32m/usr/local/lib/python3.11/dist-packages/torch/nn/modules/module.py\u001b[0m in \u001b[0;36m_wrapped_call_impl\u001b[0;34m(self, *args, **kwargs)\u001b[0m\n\u001b[1;32m   1734\u001b[0m             \u001b[0;32mreturn\u001b[0m \u001b[0mself\u001b[0m\u001b[0;34m.\u001b[0m\u001b[0m_compiled_call_impl\u001b[0m\u001b[0;34m(\u001b[0m\u001b[0;34m*\u001b[0m\u001b[0margs\u001b[0m\u001b[0;34m,\u001b[0m \u001b[0;34m**\u001b[0m\u001b[0mkwargs\u001b[0m\u001b[0;34m)\u001b[0m  \u001b[0;31m# type: ignore[misc]\u001b[0m\u001b[0;34m\u001b[0m\u001b[0;34m\u001b[0m\u001b[0m\n\u001b[1;32m   1735\u001b[0m         \u001b[0;32melse\u001b[0m\u001b[0;34m:\u001b[0m\u001b[0;34m\u001b[0m\u001b[0;34m\u001b[0m\u001b[0m\n\u001b[0;32m-> 1736\u001b[0;31m             \u001b[0;32mreturn\u001b[0m \u001b[0mself\u001b[0m\u001b[0;34m.\u001b[0m\u001b[0m_call_impl\u001b[0m\u001b[0;34m(\u001b[0m\u001b[0;34m*\u001b[0m\u001b[0margs\u001b[0m\u001b[0;34m,\u001b[0m \u001b[0;34m**\u001b[0m\u001b[0mkwargs\u001b[0m\u001b[0;34m)\u001b[0m\u001b[0;34m\u001b[0m\u001b[0;34m\u001b[0m\u001b[0m\n\u001b[0m\u001b[1;32m   1737\u001b[0m \u001b[0;34m\u001b[0m\u001b[0m\n\u001b[1;32m   1738\u001b[0m     \u001b[0;31m# torchrec tests the code consistency with the following code\u001b[0m\u001b[0;34m\u001b[0m\u001b[0;34m\u001b[0m\u001b[0m\n",
            "\u001b[0;32m/usr/local/lib/python3.11/dist-packages/torch/nn/modules/module.py\u001b[0m in \u001b[0;36m_call_impl\u001b[0;34m(self, *args, **kwargs)\u001b[0m\n\u001b[1;32m   1745\u001b[0m                 \u001b[0;32mor\u001b[0m \u001b[0m_global_backward_pre_hooks\u001b[0m \u001b[0;32mor\u001b[0m \u001b[0m_global_backward_hooks\u001b[0m\u001b[0;34m\u001b[0m\u001b[0;34m\u001b[0m\u001b[0m\n\u001b[1;32m   1746\u001b[0m                 or _global_forward_hooks or _global_forward_pre_hooks):\n\u001b[0;32m-> 1747\u001b[0;31m             \u001b[0;32mreturn\u001b[0m \u001b[0mforward_call\u001b[0m\u001b[0;34m(\u001b[0m\u001b[0;34m*\u001b[0m\u001b[0margs\u001b[0m\u001b[0;34m,\u001b[0m \u001b[0;34m**\u001b[0m\u001b[0mkwargs\u001b[0m\u001b[0;34m)\u001b[0m\u001b[0;34m\u001b[0m\u001b[0;34m\u001b[0m\u001b[0m\n\u001b[0m\u001b[1;32m   1748\u001b[0m \u001b[0;34m\u001b[0m\u001b[0m\n\u001b[1;32m   1749\u001b[0m         \u001b[0mresult\u001b[0m \u001b[0;34m=\u001b[0m \u001b[0;32mNone\u001b[0m\u001b[0;34m\u001b[0m\u001b[0;34m\u001b[0m\u001b[0m\n",
            "\u001b[0;32m<ipython-input-69-69c98a6cc1ee>\u001b[0m in \u001b[0;36mforward\u001b[0;34m(self, idx, targets)\u001b[0m\n\u001b[1;32m     17\u001b[0m         \u001b[0mtok_emb\u001b[0m \u001b[0;34m=\u001b[0m \u001b[0mself\u001b[0m\u001b[0;34m.\u001b[0m\u001b[0mtoken_embedding_table\u001b[0m\u001b[0;34m(\u001b[0m\u001b[0midx\u001b[0m\u001b[0;34m)\u001b[0m \u001b[0;31m# (B,T,C)\u001b[0m\u001b[0;34m\u001b[0m\u001b[0;34m\u001b[0m\u001b[0m\n\u001b[1;32m     18\u001b[0m         \u001b[0mpos_emb\u001b[0m \u001b[0;34m=\u001b[0m \u001b[0mself\u001b[0m\u001b[0;34m.\u001b[0m\u001b[0mposition_embedding\u001b[0m\u001b[0;34m(\u001b[0m\u001b[0mtorch\u001b[0m\u001b[0;34m.\u001b[0m\u001b[0marange\u001b[0m\u001b[0;34m(\u001b[0m\u001b[0mT\u001b[0m\u001b[0;34m)\u001b[0m\u001b[0;34m)\u001b[0m\u001b[0;31m#T,C\u001b[0m\u001b[0;34m\u001b[0m\u001b[0;34m\u001b[0m\u001b[0m\n\u001b[0;32m---> 19\u001b[0;31m         \u001b[0mx\u001b[0m \u001b[0;34m=\u001b[0m \u001b[0mtok_emb\u001b[0m \u001b[0;34m+\u001b[0m \u001b[0mpos_emb\u001b[0m \u001b[0;31m#(B,T,C)\u001b[0m\u001b[0;34m\u001b[0m\u001b[0;34m\u001b[0m\u001b[0m\n\u001b[0m\u001b[1;32m     20\u001b[0m         \u001b[0mx\u001b[0m \u001b[0;34m=\u001b[0m \u001b[0mself\u001b[0m\u001b[0;34m.\u001b[0m\u001b[0msa_head\u001b[0m\u001b[0;34m(\u001b[0m\u001b[0mx\u001b[0m\u001b[0;34m)\u001b[0m\u001b[0;34m\u001b[0m\u001b[0;34m\u001b[0m\u001b[0m\n\u001b[1;32m     21\u001b[0m         \u001b[0mlogits\u001b[0m \u001b[0;34m=\u001b[0m \u001b[0mself\u001b[0m\u001b[0;34m.\u001b[0m\u001b[0mlm_head\u001b[0m\u001b[0;34m(\u001b[0m\u001b[0mx\u001b[0m\u001b[0;34m)\u001b[0m\u001b[0;34m\u001b[0m\u001b[0;34m\u001b[0m\u001b[0m\n",
            "\u001b[0;31mRuntimeError\u001b[0m: The size of tensor a (65) must match the size of tensor b (384) at non-singleton dimension 2"
          ]
        }
      ],
      "source": [
        "import torch.nn as nn\n",
        "from torch.nn import functional as F\n",
        "\n",
        "torch.manual_seed(1337)\n",
        "\n",
        "class BigramLanguageModel(nn.Module):\n",
        "  def __init__(self,vocab_size):\n",
        "    super().__init__()\n",
        "    self.token_embedding_table = nn.Embedding(vocab_size,vocab_size)\n",
        "    self.position_embedding = nn.Embedding(block_size,n_embd)\n",
        "    self.sa_head = Head(n_embd)\n",
        "    self.lm_head = nn.Linear(n_embd,vocab_size)\n",
        "\n",
        "  def forward(self, idx, targets=None):\n",
        "        B,T = idx.shape\n",
        "        # idx and targets are both (B,T) tensor of integers\n",
        "        tok_emb = self.token_embedding_table(idx) # (B,T,C)\n",
        "        pos_emb = self.position_embedding(torch.arange(T))#T,C\n",
        "        x = tok_emb + pos_emb #(B,T,C)\n",
        "        x = self.sa_head(x)\n",
        "        logits = self.lm_head(x)\n",
        "\n",
        "        if targets is None:\n",
        "            loss = None\n",
        "        else:\n",
        "            B, T, C = logits.shape\n",
        "            logits = logits.view(B*T, C)\n",
        "            targets = targets.view(B*T)\n",
        "            loss = F.cross_entropy(logits, targets)\n",
        "\n",
        "        return logits, loss\n",
        "\n",
        "  def generate(self,idx,max_new_tokens):\n",
        "    for _ in range(max_new_tokens):\n",
        "      #crop idx to the last block_size tokens\n",
        "      idx_cond = idx[:,-block_size]\n",
        "\n",
        "      logits,loss = self(idx_cond)\n",
        "      # focus only on the last time step\n",
        "      logits = logits[:, -1, :] # becomes (B, C)\n",
        "      #apply softmax\n",
        "      probs = F.softmax(logits, dim=-1) # (B, C)\n",
        "      # sample from the distribution\n",
        "      idx_next = torch.multinomial(probs, num_samples=1) # (B, 1)\n",
        "      # append sampled index to the running sequence\n",
        "      idx = torch.cat((idx, idx_next), dim=1) # (B, T+1)\n",
        "\n",
        "    return idx\n",
        "\n",
        "vocab_size = len(chars)\n",
        "m = BigramLanguageModel(vocab_size)\n",
        "logits , loss = m(xb,yb)\n",
        "print(logits.shape)\n",
        "print(loss)"
      ]
    },
    {
      "cell_type": "code",
      "execution_count": null,
      "metadata": {
        "id": "U1jIlozd5YrG"
      },
      "outputs": [],
      "source": [
        "optimizer = torch.optim.Adam(m.parameters(),lr = 1e-3)"
      ]
    },
    {
      "cell_type": "code",
      "source": [
        "batch_size = 32\n",
        "for steps in range(100): # increase number of steps for good results...\n",
        "\n",
        "    # sample a batch of data\n",
        "    xb, yb = get_batch('train')\n",
        "\n",
        "    # evaluate the loss\n",
        "    logits, loss = m(xb, yb)\n",
        "    optimizer.zero_grad(set_to_none=True)\n",
        "    loss.backward()\n",
        "    optimizer.step()\n",
        "\n",
        "print(loss.item())"
      ],
      "metadata": {
        "id": "tEzYzFX-3BrF"
      },
      "execution_count": null,
      "outputs": []
    },
    {
      "cell_type": "code",
      "source": [
        "print(decode(m.generate(idx = torch.zeros((1, 1), dtype=torch.long), max_new_tokens=500)[0].tolist()))"
      ],
      "metadata": {
        "id": "Rlcpt-Wa34re"
      },
      "execution_count": null,
      "outputs": []
    },
    {
      "cell_type": "code",
      "source": [],
      "metadata": {
        "id": "MmzziC-27ADC"
      },
      "execution_count": null,
      "outputs": []
    }
  ],
  "metadata": {
    "colab": {
      "name": "Welcome To Colab",
      "provenance": [],
      "gpuType": "T4"
    },
    "kernelspec": {
      "display_name": "Python 3",
      "name": "python3"
    },
    "language_info": {
      "name": "python",
      "version": "3.12.6"
    },
    "accelerator": "GPU"
  },
  "nbformat": 4,
  "nbformat_minor": 0
}