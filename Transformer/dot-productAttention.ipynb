{
 "cells": [
  {
   "cell_type": "code",
   "execution_count": 5,
   "id": "6b93d6ec",
   "metadata": {},
   "outputs": [],
   "source": [
    "import numpy as np\n",
    "import pandas as pd\n",
    "import math\n"
   ]
  },
  {
   "cell_type": "code",
   "execution_count": 33,
   "id": "a3c4b5d0",
   "metadata": {},
   "outputs": [],
   "source": [
    "def softmax(x): #(vector input)\n",
    "    exp_x = np.exp(x)\n",
    "    deno = np.sum(exp_x)\n",
    "    res = exp_x/deno\n",
    "    print(res)\n",
    "    return res\n",
    "\n",
    "def scaled_dot_product_attention(Q, K, V):\n",
    "    d_k  = K.shape[1]\n",
    "    q_k = Q @ K.T\n",
    "    logits = softmax(q_k/np.sqrt(d_k))\n",
    "    output = logits @ V\n",
    "    return output"
   ]
  },
  {
   "cell_type": "code",
   "execution_count": 34,
   "id": "bd273ae9",
   "metadata": {},
   "outputs": [
    {
     "name": "stdout",
     "output_type": "stream",
     "text": [
      "[[0.40111209 0.19777581 0.40111209]]\n",
      "Attention output: [[6.01668139 3.98331861]]\n"
     ]
    }
   ],
   "source": [
    "# === Test with simple vectors ===\n",
    "Q = np.array([[1, 0]])    # shape: (1, 2)\n",
    "K = np.array([[1, 0],\n",
    "              [0, 1],\n",
    "              [1, 1]])    # shape: (3, 2)\n",
    "V = np.array([[10, 0],\n",
    "              [0, 10],\n",
    "              [5, 5]])    # shape: (3, 2)\n",
    "\n",
    "# Expected: Output should be a mix of the V vectors, based on similarity between Q and each K\n",
    "output = scaled_dot_product_attention(Q, K, V)\n",
    "print(\"Attention output:\", output)\n"
   ]
  }
 ],
 "metadata": {
  "kernelspec": {
   "display_name": "Python 3",
   "language": "python",
   "name": "python3"
  },
  "language_info": {
   "codemirror_mode": {
    "name": "ipython",
    "version": 3
   },
   "file_extension": ".py",
   "mimetype": "text/x-python",
   "name": "python",
   "nbconvert_exporter": "python",
   "pygments_lexer": "ipython3",
   "version": "3.12.6"
  }
 },
 "nbformat": 4,
 "nbformat_minor": 5
}
