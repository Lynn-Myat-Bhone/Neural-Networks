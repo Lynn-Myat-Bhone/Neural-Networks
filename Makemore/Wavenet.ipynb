{
 "cells": [
  {
   "cell_type": "code",
   "execution_count": 1,
   "metadata": {},
   "outputs": [],
   "source": [
    "import torch\n",
    "import torch.nn.functional as F\n",
    "import matplotlib.pyplot as plt"
   ]
  },
  {
   "cell_type": "code",
   "execution_count": 2,
   "metadata": {},
   "outputs": [
    {
     "data": {
      "text/plain": [
       "32033"
      ]
     },
     "execution_count": 2,
     "metadata": {},
     "output_type": "execute_result"
    }
   ],
   "source": [
    "words = open('names.txt','r').read().splitlines()\n",
    "len(words)"
   ]
  },
  {
   "cell_type": "code",
   "execution_count": 3,
   "metadata": {},
   "outputs": [
    {
     "data": {
      "text/plain": [
       "27"
      ]
     },
     "execution_count": 3,
     "metadata": {},
     "output_type": "execute_result"
    }
   ],
   "source": [
    "chars = sorted(list(set(''.join(words))))\n",
    "stoi = {s:i+1 for i,s in  enumerate(chars)}\n",
    "stoi['.'] = 0\n",
    "itos = {i:s for s,i in stoi.items()}\n",
    "vocab_size = len(itos)\n",
    "vocab_size"
   ]
  },
  {
   "cell_type": "code",
   "execution_count": 4,
   "metadata": {},
   "outputs": [],
   "source": [
    "import random\n",
    "random.seed(42)\n",
    "random.shuffle(words)"
   ]
  },
  {
   "cell_type": "code",
   "execution_count": 31,
   "metadata": {},
   "outputs": [],
   "source": [
    "#build dataset\n",
    "block_size = 8\n",
    "\n",
    "def build_dataset(words):\n",
    "    X,y = [],[]\n",
    "    for w in words:\n",
    "        context = [0] * block_size\n",
    "        for ch in w + '.':\n",
    "            ix = stoi[ch]\n",
    "            X.append(context)\n",
    "            y.append(ix)\n",
    "            context = context[1:] + [ix]\n",
    "    X = torch.tensor(X)\n",
    "    y = torch.tensor(y)    \n",
    "    return X,y\n",
    "\n",
    "\n",
    "n1 = int(0.8 * len(words))\n",
    "n2 = int(0.9 * len(words))\n",
    "X_tr,y_tr = build_dataset(words[:n1])\n",
    "X_dev,y_dev = build_dataset(words[n1:n2])    \n",
    "X_te , y_te = build_dataset(words[n2:])"
   ]
  },
  {
   "cell_type": "code",
   "execution_count": 32,
   "metadata": {},
   "outputs": [
    {
     "data": {
      "text/plain": [
       "tensor([ 0,  0,  0,  0,  0,  0,  0, 25])"
      ]
     },
     "execution_count": 32,
     "metadata": {},
     "output_type": "execute_result"
    }
   ],
   "source": [
    "X_tr[1]"
   ]
  },
  {
   "cell_type": "code",
   "execution_count": 33,
   "metadata": {},
   "outputs": [
    {
     "name": "stdout",
     "output_type": "stream",
     "text": [
      "........ ----> y\n",
      ".......y ----> u\n",
      "......yu ----> h\n",
      ".....yuh ----> e\n",
      "....yuhe ----> n\n"
     ]
    }
   ],
   "source": [
    "for x,y in zip(X_tr[:5],y_tr[:5]):\n",
    "    print(''.join(itos[ix.item()] for ix in x),'---->',itos[y.item()])"
   ]
  },
  {
   "cell_type": "code",
   "execution_count": 53,
   "metadata": {},
   "outputs": [],
   "source": [
    "class Linear:\n",
    "    def __init__(self,fan_in,fan_out,bias = True):\n",
    "        self.weight = torch.randn(fan_in,fan_out) /fan_in **0.5 #initalizing weight\n",
    "        self.bias = torch.randn(fan_out) if bias else None\n",
    "    \n",
    "    def __call__(self, x):\n",
    "        self.out = x @ self.weight\n",
    "        if self.bias is not None:\n",
    "            self.out += self.bias\n",
    "        return self.out\n",
    "    \n",
    "    def parameters(self):\n",
    "        return [self.weight] + ([] if self.bias is None else[self.bias])\n",
    "    \n",
    "class BatchNorm:\n",
    "    def __init__(self,dim,eps = 1e-5,momentum = 0.1):\n",
    "        self.eps = eps\n",
    "        self.momentum = momentum\n",
    "        \"\"\"\n",
    "        if True mean and variance are computed from the current batch.\n",
    "        Instead of using batch statistics, it uses the running mean and variance\n",
    "        collected during training.\n",
    "        \"\"\"\n",
    "        self.Training = True \n",
    "    #backward\n",
    "        self.gamma = torch.ones(dim)\n",
    "        self.beta = torch.zeros(dim)\n",
    "    # training with running 'momentum update'\n",
    "        self.running_mean = torch.zeros(dim)\n",
    "        self.running_var = torch.ones(dim)\n",
    "    \n",
    "    def __call__(self,x):\n",
    "        if self.Training:\n",
    "            if x.ndim == 2:\n",
    "                dim= 0\n",
    "            if x.ndim ==3:\n",
    "                dim = (0,1)\n",
    "            x_mean = x.mean(dim,keepdim=True)\n",
    "            x_var = x.var(dim,keepdim=True)\n",
    "        else:\n",
    "            x_mean = self.running_mean\n",
    "            x_var = self.running_var\n",
    "        #Normalize\n",
    "        xhat = (x-x_mean)/torch.sqrt(x_var + self.eps)\n",
    "        self.out =  self.gamma * xhat + self.beta\n",
    "        #update buffer\n",
    "        if self.Training:\n",
    "            with torch.no_grad():\n",
    "                self.running_mean = (1-self.momentum) * self.running_mean + self.momentum * x_mean\n",
    "                self.running_var = (1 - self.momentum) * self.running_var + self.momentum * x_var\n",
    "        return self.out\n",
    "    \n",
    "    def parameters(self):\n",
    "        return[self.gamma,self.beta]\n",
    "                \n",
    "\n",
    "class Tanh:\n",
    "    def __call__(self,x):\n",
    "        self.out = torch.tanh(x)\n",
    "        return self.out\n",
    "    def parameters(self):\n",
    "        return []\n",
    "            \n",
    "\n",
    "class Embedding:\n",
    "    def __init__(self,num_embedding,embedding_dim):\n",
    "        self.weight = torch.randn((num_embedding,embedding_dim))\n",
    "        self.out = None\n",
    "        \n",
    "    def __call__(self,x):\n",
    "        self.out = self.weight[x]\n",
    "        \n",
    "        return self.out\n",
    "    \n",
    "    def parameters(self):\n",
    "        return[self.weight]\n",
    "    \n",
    "class FlattenConsecutive:\n",
    "    def __init__(self,n):\n",
    "        self.n = n\n",
    "        \n",
    "    def __call__(self,x):\n",
    "        B,T,C = x.shape\n",
    "        x = x.view(B, T//self.n ,C*self.n)\n",
    "        \n",
    "        if x.shape[1]==1:\n",
    "            x = x.squeeze(1)\n",
    "        self.out = x\n",
    "        return self.out\n",
    "    def parameters(self):\n",
    "        return []\n",
    "\n",
    "class Sequential:\n",
    "    def __init__(self,layers):\n",
    "        self.layers = layers\n",
    "        \n",
    "    def __call__(self,x):\n",
    "        for layer in self.layers:\n",
    "            x = layer(x)\n",
    "        self.out = x\n",
    "        return self.out\n",
    "\n",
    "    def parameters(self):\n",
    "        return [p for layer in self.layers for p in layer.parameters()]\n",
    "        "
   ]
  },
  {
   "cell_type": "code",
   "execution_count": 54,
   "metadata": {},
   "outputs": [
    {
     "data": {
      "text/plain": [
       "<torch._C.Generator at 0x264ffbe2310>"
      ]
     },
     "execution_count": 54,
     "metadata": {},
     "output_type": "execute_result"
    }
   ],
   "source": [
    "torch.manual_seed(42)"
   ]
  },
  {
   "cell_type": "code",
   "execution_count": 58,
   "metadata": {},
   "outputs": [
    {
     "name": "stdout",
     "output_type": "stream",
     "text": [
      "170897\n"
     ]
    }
   ],
   "source": [
    "n_emb = 10  # the dim of chas embedding vectors\n",
    "n_hidden = 200 # num of neurons in hidden layer of the MLP\n",
    "model = Sequential([\n",
    "    Embedding(vocab_size,n_emb),\n",
    "    FlattenConsecutive(2),Linear(n_emb*2,n_hidden,bias=False),BatchNorm(n_hidden),Tanh(),\n",
    "    FlattenConsecutive(2),Linear(n_hidden*2,n_hidden,bias=False),BatchNorm(n_hidden),Tanh(),\n",
    "    FlattenConsecutive(2),Linear(n_hidden*2,n_hidden,bias=False),BatchNorm(n_hidden),Tanh(),\n",
    "    Linear(n_hidden,vocab_size)\n",
    "])\n",
    "\n",
    "with torch.no_grad():\n",
    "    model.layers[-1].weight *= 0.1 #last layer make less confident\n",
    "\n",
    "parameters = model.parameters()\n",
    "print(sum(p.nelement() for p in parameters)) # total Parameters\n",
    "for p in parameters:\n",
    "    p.requires_grad = True"
   ]
  },
  {
   "cell_type": "code",
   "execution_count": 56,
   "metadata": {},
   "outputs": [
    {
     "ename": "AttributeError",
     "evalue": "'Embedding' object has no attribute 'out'",
     "output_type": "error",
     "traceback": [
      "\u001b[1;31m---------------------------------------------------------------------------\u001b[0m",
      "\u001b[1;31mAttributeError\u001b[0m                            Traceback (most recent call last)",
      "Cell \u001b[1;32mIn[56], line 2\u001b[0m\n\u001b[0;32m      1\u001b[0m \u001b[38;5;28;01mfor\u001b[39;00m layer \u001b[38;5;129;01min\u001b[39;00m model\u001b[38;5;241m.\u001b[39mlayers:\n\u001b[1;32m----> 2\u001b[0m     \u001b[38;5;28mprint\u001b[39m(layer\u001b[38;5;241m.\u001b[39m\u001b[38;5;18m__class__\u001b[39m\u001b[38;5;241m.\u001b[39m\u001b[38;5;18m__name__\u001b[39m,\u001b[38;5;124m\"\u001b[39m\u001b[38;5;124m:\u001b[39m\u001b[38;5;124m\"\u001b[39m,\u001b[38;5;28mtuple\u001b[39m(\u001b[43mlayer\u001b[49m\u001b[38;5;241;43m.\u001b[39;49m\u001b[43mout\u001b[49m\u001b[38;5;241m.\u001b[39mshape)) \n",
      "\u001b[1;31mAttributeError\u001b[0m: 'Embedding' object has no attribute 'out'"
     ]
    }
   ],
   "source": [
    "for layer in model.layers:\n",
    "    print(layer.__class__.__name__,\":\",tuple(layer.out.shape)) "
   ]
  },
  {
   "cell_type": "code",
   "execution_count": 60,
   "metadata": {},
   "outputs": [
    {
     "name": "stdout",
     "output_type": "stream",
     "text": [
      "      0/ 200000:3.601258\n",
      "   1000/ 200000:2.445781\n",
      "   2000/ 200000:2.163294\n",
      "   3000/ 200000:2.156123\n",
      "   4000/ 200000:1.877807\n",
      "   5000/ 200000:1.928720\n",
      "   6000/ 200000:2.108773\n",
      "   7000/ 200000:2.014763\n",
      "   8000/ 200000:2.096709\n",
      "   9000/ 200000:2.098012\n",
      "  10000/ 200000:2.259810\n",
      "  11000/ 200000:2.151398\n",
      "  12000/ 200000:1.855546\n",
      "  13000/ 200000:2.088605\n",
      "  14000/ 200000:1.856511\n",
      "  15000/ 200000:1.918713\n",
      "  16000/ 200000:1.997524\n",
      "  17000/ 200000:1.878388\n",
      "  18000/ 200000:2.029017\n",
      "  19000/ 200000:1.859951\n",
      "  20000/ 200000:1.779461\n",
      "  21000/ 200000:1.912313\n",
      "  22000/ 200000:1.743225\n",
      "  23000/ 200000:1.783720\n",
      "  24000/ 200000:1.956180\n",
      "  25000/ 200000:1.658418\n",
      "  26000/ 200000:1.724108\n",
      "  27000/ 200000:2.051022\n",
      "  28000/ 200000:1.678259\n",
      "  29000/ 200000:1.957638\n",
      "  30000/ 200000:2.039892\n",
      "  31000/ 200000:1.935194\n",
      "  32000/ 200000:1.795542\n",
      "  33000/ 200000:2.028881\n",
      "  34000/ 200000:1.873674\n",
      "  35000/ 200000:1.818164\n",
      "  36000/ 200000:1.788941\n",
      "  37000/ 200000:2.197293\n",
      "  38000/ 200000:1.707113\n",
      "  39000/ 200000:1.686658\n",
      "  40000/ 200000:2.078622\n",
      "  41000/ 200000:1.899647\n",
      "  42000/ 200000:1.964185\n",
      "  43000/ 200000:1.803632\n",
      "  44000/ 200000:1.958293\n",
      "  45000/ 200000:1.684007\n",
      "  46000/ 200000:1.953707\n",
      "  47000/ 200000:1.794324\n",
      "  48000/ 200000:2.132622\n",
      "  49000/ 200000:1.894710\n",
      "  50000/ 200000:1.786243\n",
      "  51000/ 200000:2.126739\n",
      "  52000/ 200000:1.764502\n",
      "  53000/ 200000:1.881982\n",
      "  54000/ 200000:1.870009\n",
      "  55000/ 200000:1.852501\n",
      "  56000/ 200000:1.982049\n",
      "  57000/ 200000:1.638661\n",
      "  58000/ 200000:1.912583\n",
      "  59000/ 200000:2.030127\n",
      "  60000/ 200000:1.661307\n",
      "  61000/ 200000:1.720000\n",
      "  62000/ 200000:2.046389\n",
      "  63000/ 200000:1.813009\n",
      "  64000/ 200000:1.841245\n",
      "  65000/ 200000:1.442576\n",
      "  66000/ 200000:1.868681\n",
      "  67000/ 200000:1.894191\n",
      "  68000/ 200000:1.819741\n",
      "  69000/ 200000:1.669684\n",
      "  70000/ 200000:2.025674\n",
      "  71000/ 200000:1.799680\n",
      "  72000/ 200000:1.594570\n",
      "  73000/ 200000:2.037056\n",
      "  74000/ 200000:1.895082\n",
      "  75000/ 200000:1.838708\n",
      "  76000/ 200000:1.662449\n",
      "  77000/ 200000:2.068399\n",
      "  78000/ 200000:1.944953\n",
      "  79000/ 200000:1.897879\n",
      "  80000/ 200000:1.809678\n",
      "  81000/ 200000:1.979786\n",
      "  82000/ 200000:1.701314\n",
      "  83000/ 200000:1.442831\n",
      "  84000/ 200000:1.734263\n",
      "  85000/ 200000:1.995046\n",
      "  86000/ 200000:1.561645\n",
      "  87000/ 200000:1.601146\n",
      "  88000/ 200000:1.725546\n",
      "  89000/ 200000:1.959931\n",
      "  90000/ 200000:2.010592\n",
      "  91000/ 200000:1.796166\n",
      "  92000/ 200000:1.765622\n",
      "  93000/ 200000:1.737449\n",
      "  94000/ 200000:1.659536\n",
      "  95000/ 200000:1.782317\n",
      "  96000/ 200000:2.140468\n",
      "  97000/ 200000:1.725160\n",
      "  98000/ 200000:1.750596\n",
      "  99000/ 200000:1.614602\n",
      " 100000/ 200000:2.335529\n",
      " 101000/ 200000:1.513404\n",
      " 102000/ 200000:1.746216\n",
      " 103000/ 200000:1.923748\n",
      " 104000/ 200000:1.802140\n",
      " 105000/ 200000:1.848867\n",
      " 106000/ 200000:1.793857\n",
      " 107000/ 200000:1.820907\n",
      " 108000/ 200000:1.703265\n",
      " 109000/ 200000:1.709577\n",
      " 110000/ 200000:1.759571\n",
      " 111000/ 200000:1.756370\n",
      " 112000/ 200000:1.727901\n",
      " 113000/ 200000:1.821076\n",
      " 114000/ 200000:1.749647\n",
      " 115000/ 200000:1.603084\n",
      " 116000/ 200000:1.812294\n",
      " 117000/ 200000:1.830477\n",
      " 118000/ 200000:1.917793\n",
      " 119000/ 200000:1.878473\n",
      " 120000/ 200000:1.679867\n",
      " 121000/ 200000:1.609331\n",
      " 122000/ 200000:1.930696\n",
      " 123000/ 200000:1.474471\n",
      " 124000/ 200000:2.149217\n",
      " 125000/ 200000:1.712157\n",
      " 126000/ 200000:1.843186\n",
      " 127000/ 200000:1.771562\n",
      " 128000/ 200000:1.700573\n",
      " 129000/ 200000:1.975589\n",
      " 130000/ 200000:1.858210\n",
      " 131000/ 200000:2.036637\n",
      " 132000/ 200000:2.065471\n",
      " 133000/ 200000:1.966653\n",
      " 134000/ 200000:1.632618\n",
      " 135000/ 200000:1.805825\n",
      " 136000/ 200000:1.744979\n",
      " 137000/ 200000:1.909080\n",
      " 138000/ 200000:1.599904\n",
      " 139000/ 200000:1.673826\n",
      " 140000/ 200000:1.663514\n",
      " 141000/ 200000:1.933043\n",
      " 142000/ 200000:1.485500\n",
      " 143000/ 200000:1.469856\n",
      " 144000/ 200000:1.896418\n",
      " 145000/ 200000:2.008271\n",
      " 146000/ 200000:1.757380\n",
      " 147000/ 200000:1.696325\n",
      " 148000/ 200000:1.781905\n",
      " 149000/ 200000:1.754045\n",
      " 150000/ 200000:1.544852\n",
      " 151000/ 200000:1.749675\n",
      " 152000/ 200000:1.739507\n",
      " 153000/ 200000:1.742197\n",
      " 154000/ 200000:1.610772\n",
      " 155000/ 200000:2.108623\n",
      " 156000/ 200000:1.889098\n",
      " 157000/ 200000:1.903057\n",
      " 158000/ 200000:1.646631\n",
      " 159000/ 200000:1.761950\n",
      " 160000/ 200000:1.713447\n",
      " 161000/ 200000:1.918611\n",
      " 162000/ 200000:1.806957\n",
      " 163000/ 200000:1.971125\n",
      " 164000/ 200000:1.872441\n",
      " 165000/ 200000:1.786476\n",
      " 166000/ 200000:1.748271\n",
      " 167000/ 200000:1.865199\n",
      " 168000/ 200000:1.795444\n",
      " 169000/ 200000:1.770279\n",
      " 170000/ 200000:1.552255\n",
      " 171000/ 200000:1.680511\n",
      " 172000/ 200000:2.105829\n",
      " 173000/ 200000:1.281915\n",
      " 174000/ 200000:1.500911\n",
      " 175000/ 200000:1.863081\n",
      " 176000/ 200000:1.651210\n",
      " 177000/ 200000:1.542610\n",
      " 178000/ 200000:1.894267\n",
      " 179000/ 200000:1.828278\n",
      " 180000/ 200000:1.775736\n",
      " 181000/ 200000:1.871370\n",
      " 182000/ 200000:1.631451\n",
      " 183000/ 200000:1.921883\n",
      " 184000/ 200000:1.840594\n",
      " 185000/ 200000:1.891758\n",
      " 186000/ 200000:1.714736\n",
      " 187000/ 200000:1.678707\n",
      " 188000/ 200000:1.779496\n",
      " 189000/ 200000:1.741890\n",
      " 190000/ 200000:1.522036\n",
      " 191000/ 200000:2.018922\n",
      " 192000/ 200000:1.839304\n",
      " 193000/ 200000:1.643624\n",
      " 194000/ 200000:1.747796\n",
      " 195000/ 200000:1.380314\n",
      " 196000/ 200000:2.029205\n",
      " 197000/ 200000:1.965886\n",
      " 198000/ 200000:1.524974\n",
      " 199000/ 200000:1.994017\n"
     ]
    }
   ],
   "source": [
    "epochs = 200000\n",
    "batch_size = 64\n",
    "lossi = []\n",
    "\n",
    "for i in range(epochs):\n",
    "    #create mini batch\n",
    "    ix = torch.randint(0, X_tr.shape[0], (batch_size,))\n",
    "    Xb,yb = X_tr[ix],y_tr[ix] #batch \n",
    "    #forwad pass\n",
    "    logits = model(Xb)\n",
    "    loss = F.cross_entropy(logits,yb)\n",
    "    \n",
    "    #backward\n",
    "    for p in parameters:\n",
    "        p.grad = None\n",
    "    loss.backward()\n",
    "    \n",
    "    lr = 0.1 if i<15000 else 0.01\n",
    "    for p in parameters:\n",
    "        p.data += -lr * p.grad\n",
    "    \n",
    "    if i % 1000 ==0 :\n",
    "        print(f\"{i:7d}/{epochs:7d}:{loss.item():4f}\")\n",
    "    lossi.append(loss.log10().item())\n",
    "    \n",
    "   "
   ]
  },
  {
   "cell_type": "code",
   "execution_count": 61,
   "metadata": {},
   "outputs": [
    {
     "data": {
      "text/plain": [
       "[<matplotlib.lines.Line2D at 0x26486b5f650>]"
      ]
     },
     "execution_count": 61,
     "metadata": {},
     "output_type": "execute_result"
    },
    {
     "data": {
      "image/png": "[encoded data removed]",
      "text/plain": [
       "<Figure size 640x480 with 1 Axes>"
      ]
     },
     "metadata": {},
     "output_type": "display_data"
    }
   ],
   "source": [
    "plt.plot(lossi)"
   ]
  },
  {
   "cell_type": "code",
   "execution_count": 62,
   "metadata": {},
   "outputs": [
    {
     "data": {
      "text/plain": [
       "[<matplotlib.lines.Line2D at 0x26485e40140>]"
      ]
     },
     "execution_count": 62,
     "metadata": {},
     "output_type": "execute_result"
    },
    {
     "data": {
      "image/png": "[encoded data removed]",
      "text/plain": [
       "<Figure size 640x480 with 1 Axes>"
      ]
     },
     "metadata": {},
     "output_type": "display_data"
    }
   ],
   "source": [
    "plt.plot(torch.tensor(lossi).view(-1,1000).mean(1))"
   ]
  },
  {
   "cell_type": "code",
   "execution_count": 63,
   "metadata": {},
   "outputs": [
    {
     "data": {
      "text/plain": [
       "torch.Size([200])"
      ]
     },
     "execution_count": 63,
     "metadata": {},
     "output_type": "execute_result"
    }
   ],
   "source": [
    "torch.tensor(lossi).view(-1,1000).mean(1).shape"
   ]
  },
  {
   "cell_type": "code",
   "execution_count": 64,
   "metadata": {},
   "outputs": [],
   "source": [
    "# put layers into eval mode\n",
    "for layer in model.layers:\n",
    "    layer.Training = False"
   ]
  },
  {
   "cell_type": "code",
   "execution_count": 65,
   "metadata": {},
   "outputs": [
    {
     "name": "stdout",
     "output_type": "stream",
     "text": [
      "train 1.7205545902252197\n",
      "val 2.0135815143585205\n"
     ]
    }
   ],
   "source": [
    "#evaluate the loss\n",
    "@torch.no_grad()\n",
    "def split_loss(split):\n",
    "    x,y = {\n",
    "        'train':(X_tr,y_tr),\n",
    "        'val':(X_dev,y_dev),\n",
    "        'test':(X_te,y_te),\n",
    "    }[split]\n",
    "    \n",
    "    logits = model(x)\n",
    "    loss = F.cross_entropy(logits,y)\n",
    "    print(split,loss.item()) \n",
    "    \n",
    "split_loss('train')       \n",
    "split_loss('val')       "
   ]
  },
  {
   "cell_type": "code",
   "execution_count": 66,
   "metadata": {},
   "outputs": [
    {
     "name": "stdout",
     "output_type": "stream",
     "text": [
      "anjelie.\n",
      "asees.\n",
      "apolon.\n",
      "raine.\n",
      "arieton.\n",
      "kasham.\n",
      "tailee.\n",
      "sherlynn.\n",
      "royal.\n",
      "tajmane.\n",
      "kaisen.\n",
      "azel.\n",
      "olevan.\n",
      "emyah.\n",
      "asrim.\n",
      "dakai.\n",
      "horgi.\n",
      "srielyn.\n",
      "harra.\n",
      "cheylandaz.\n"
     ]
    }
   ],
   "source": [
    "#sample from model\n",
    "for _ in range(20):\n",
    "    out = []\n",
    "    context = [0] * block_size\n",
    "    while True:\n",
    "        logits = model(torch.tensor([context]))\n",
    "        probs = F.softmax(logits,dim = 1)\n",
    "        #sample from the distribution\n",
    "        ix = torch.multinomial(probs,num_samples=1).item()\n",
    "        #shift the conetxt window and track the samples\n",
    "        context = context[1:] + [ix]\n",
    "        out.append(ix)\n",
    "        if ix == 0:\n",
    "            break\n",
    "    print(''.join(itos[i] for i in out))"
   ]
  }
 ],
 "metadata": {
  "kernelspec": {
   "display_name": "Python 3",
   "language": "python",
   "name": "python3"
  },
  "language_info": {
   "codemirror_mode": {
    "name": "ipython",
    "version": 3
   },
   "file_extension": ".py",
   "mimetype": "text/x-python",
   "name": "python",
   "nbconvert_exporter": "python",
   "pygments_lexer": "ipython3",
   "version": "3.12.6"
  }
 },
 "nbformat": 4,
 "nbformat_minor": 2
}
