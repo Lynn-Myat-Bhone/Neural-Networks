{
 "cells": [
  {
   "cell_type": "code",
   "execution_count": 129,
   "metadata": {},
   "outputs": [],
   "source": [
    "import torch\n",
    "import torch.nn.functional as F\n",
    "import matplotlib.pyplot as plt"
   ]
  },
  {
   "cell_type": "code",
   "execution_count": 130,
   "metadata": {},
   "outputs": [
    {
     "data": {
      "text/plain": [
       "32033"
      ]
     },
     "execution_count": 130,
     "metadata": {},
     "output_type": "execute_result"
    }
   ],
   "source": [
    "words = open('names.txt','r').read().splitlines()\n",
    "len(words)"
   ]
  },
  {
   "cell_type": "code",
   "execution_count": 131,
   "metadata": {},
   "outputs": [
    {
     "data": {
      "text/plain": [
       "27"
      ]
     },
     "execution_count": 131,
     "metadata": {},
     "output_type": "execute_result"
    }
   ],
   "source": [
    "chars = sorted(list(set(''.join(words))))\n",
    "stoi = {s:i+1 for i,s in  enumerate(chars)}\n",
    "stoi['.'] = 0\n",
    "itos = {i:s for s,i in stoi.items()}\n",
    "vocab_size = len(itos)\n",
    "vocab_size"
   ]
  },
  {
   "cell_type": "code",
   "execution_count": 132,
   "metadata": {},
   "outputs": [],
   "source": [
    "import random\n",
    "random.seed(42)\n",
    "random.shuffle(words)"
   ]
  },
  {
   "cell_type": "code",
   "execution_count": 133,
   "metadata": {},
   "outputs": [],
   "source": [
    "#build dataset\n",
    "block_size = 3\n",
    "\n",
    "def build_dataset(words):\n",
    "    X,y = [],[]\n",
    "    for w in words:\n",
    "        context = [0] * block_size\n",
    "        for ch in w + '.':\n",
    "            ix = stoi[ch]\n",
    "            X.append(context)\n",
    "            y.append(ix)\n",
    "            context = context[1:] + [ix]\n",
    "    X = torch.tensor(X)\n",
    "    y = torch.tensor(y)    \n",
    "    return X,y\n",
    "\n",
    "\n",
    "n1 = int(0.8 * len(words))\n",
    "n2 = int(0.9 * len(words))\n",
    "X_tr,y_tr = build_dataset(words[:n1])\n",
    "X_dev,y_dev = build_dataset(words[n1:n2])    \n",
    "X_te , y_te = build_dataset(words[n2:])"
   ]
  },
  {
   "cell_type": "code",
   "execution_count": 134,
   "metadata": {},
   "outputs": [
    {
     "data": {
      "text/plain": [
       "tensor([ 0,  0, 25])"
      ]
     },
     "execution_count": 134,
     "metadata": {},
     "output_type": "execute_result"
    }
   ],
   "source": [
    "X_tr[1]"
   ]
  },
  {
   "cell_type": "code",
   "execution_count": 135,
   "metadata": {},
   "outputs": [
    {
     "name": "stdout",
     "output_type": "stream",
     "text": [
      "... ----> y\n",
      "..y ----> u\n",
      ".yu ----> h\n",
      "yuh ----> e\n",
      "uhe ----> n\n"
     ]
    }
   ],
   "source": [
    "for x,y in zip(X_tr[:5],y_tr[:5]):\n",
    "    print(''.join(itos[ix.item()] for ix in x),'---->',itos[y.item()])"
   ]
  },
  {
   "cell_type": "code",
   "execution_count": 136,
   "metadata": {},
   "outputs": [],
   "source": [
    "class Linear:\n",
    "    def __init__(self,fan_in,fan_out,bias = True):\n",
    "        self.weight = torch.randn(fan_in,fan_out) /fan_in **0.5 \n",
    "        self.bias = torch.randn(fan_out) if bias else None\n",
    "    \n",
    "    def __call__(self, x):\n",
    "        self.out = x @ self.weight\n",
    "        if self.bias is not None:\n",
    "            self.out += self.bias\n",
    "        return self.out\n",
    "    \n",
    "    def parameters(self):\n",
    "        return [self.weight] + ([] if self.bias is None else[self.bias])\n",
    "    \n",
    "class BatchNorm:\n",
    "    def __init__(self,dim,eps = 1e-5,momentum = 0.1):\n",
    "        self.eps = eps\n",
    "        self.momentum = momentum\n",
    "        \"\"\"\n",
    "        if True mean and variance are computed from the current batch.\n",
    "        Instead of using batch statistics, it uses the running mean and variance\n",
    "        collected during training.\n",
    "        \"\"\"\n",
    "        self.Training = True \n",
    "    #backward\n",
    "        self.gamma = torch.ones(dim)\n",
    "        self.beta = torch.zeros(dim)\n",
    "    # training with running 'momentum update'\n",
    "        self.running_mean = torch.zeros(dim)\n",
    "        self.running_var = torch.ones(dim)\n",
    "    \n",
    "    def __call__(self,x):\n",
    "        if self.Training:\n",
    "            x_mean = x.mean(0,keepdim=True)\n",
    "            x_var = x.var(0,keepdim=True)\n",
    "        else:\n",
    "            x_mean = self.running_mean\n",
    "            x_var = self.running_var\n",
    "        #Normalize\n",
    "        xhat = (x-x_mean)/torch.sqrt(x_var + self.eps)\n",
    "        self.out =  self.gamma * xhat + self.beta\n",
    "        #update buffer\n",
    "        if self.Training:\n",
    "            with torch.no_grad():\n",
    "                self.running_mean = (1-self.momentum) * self.running_mean + self.momentum * x_mean\n",
    "                self.running_var = (1 - self.momentum) * self.running_var + self.momentum * x_var\n",
    "        return self.out\n",
    "    \n",
    "    def parameters(self):\n",
    "        return[self.gamma,self.beta]\n",
    "                \n",
    "\n",
    "class Tanh:\n",
    "    def __call__(self,x):\n",
    "        self.out = torch.tanh(x)\n",
    "        return self.out\n",
    "    def parameters(self):\n",
    "        return []\n",
    "            \n",
    "\n",
    "class Embedding:\n",
    "    def __init__(self,num_embedding,embedding_dim):\n",
    "        self.weight = torch.randn((num_embedding,embedding_dim))\n",
    "    def __call__(self,x):\n",
    "        self.out = self.weight[x]\n",
    "        return self.out\n",
    "    def parameters(self):\n",
    "        return[self.weight]\n",
    "    \n",
    "class Flatten:\n",
    "    def __call__(self,x):\n",
    "        self.out = x.view(x.shape[0],-1)\n",
    "        return self.out\n",
    "    def parameters(self):\n",
    "        return []"
   ]
  },
  {
   "cell_type": "code",
   "execution_count": 137,
   "metadata": {},
   "outputs": [
    {
     "data": {
      "text/plain": [
       "<torch._C.Generator at 0x257b26f2310>"
      ]
     },
     "execution_count": 137,
     "metadata": {},
     "output_type": "execute_result"
    }
   ],
   "source": [
    "torch.manual_seed(42)"
   ]
  },
  {
   "cell_type": "code",
   "execution_count": 138,
   "metadata": {},
   "outputs": [
    {
     "name": "stdout",
     "output_type": "stream",
     "text": [
      "12097\n"
     ]
    }
   ],
   "source": [
    "n_emb = 10  # the dim of chas embedding vectors\n",
    "n_hidden = 200 # num of neurons in hidden layer of the MLP\n",
    "layers = [\n",
    "    Embedding(vocab_size,n_emb),\n",
    "    Flatten(),\n",
    "    Linear(n_emb*block_size,n_hidden,bias=False),BatchNorm(n_hidden),Tanh(),\n",
    "    Linear(n_hidden,vocab_size)\n",
    "]\n",
    "\n",
    "with torch.no_grad():\n",
    "    layers[-1].weight += 0.1 #last layer make less confident\n",
    "\n",
    "parameters = [p for layer in layers for p in layer.parameters()]\n",
    "print(sum(p.nelement() for p in parameters)) # total Parameters\n",
    "for p in parameters:\n",
    "    p.requires_grad = True"
   ]
  },
  {
   "cell_type": "code",
   "execution_count": 139,
   "metadata": {},
   "outputs": [
    {
     "name": "stdout",
     "output_type": "stream",
     "text": [
      "      0/ 200000:3.906872\n",
      "   1000/ 200000:2.630782\n",
      "   2000/ 200000:2.535552\n",
      "   3000/ 200000:1.965534\n",
      "   4000/ 200000:2.140708\n",
      "   5000/ 200000:2.219461\n",
      "   6000/ 200000:2.438026\n",
      "   7000/ 200000:2.261782\n",
      "   8000/ 200000:2.266399\n",
      "   9000/ 200000:2.199198\n",
      "  10000/ 200000:2.211905\n",
      "  11000/ 200000:2.587668\n",
      "  12000/ 200000:2.072202\n",
      "  13000/ 200000:2.336204\n",
      "  14000/ 200000:2.392152\n",
      "  15000/ 200000:2.125680\n",
      "  16000/ 200000:2.113604\n",
      "  17000/ 200000:2.149793\n",
      "  18000/ 200000:2.276940\n",
      "  19000/ 200000:1.796176\n",
      "  20000/ 200000:2.571637\n",
      "  21000/ 200000:2.430498\n",
      "  22000/ 200000:1.957244\n",
      "  23000/ 200000:2.215242\n",
      "  24000/ 200000:2.270380\n",
      "  25000/ 200000:2.131928\n",
      "  26000/ 200000:2.054461\n",
      "  27000/ 200000:2.096163\n",
      "  28000/ 200000:2.187188\n",
      "  29000/ 200000:1.934952\n",
      "  30000/ 200000:1.923391\n",
      "  31000/ 200000:2.092594\n",
      "  32000/ 200000:2.109632\n",
      "  33000/ 200000:2.233214\n",
      "  34000/ 200000:2.380546\n",
      "  35000/ 200000:2.282491\n",
      "  36000/ 200000:2.083000\n",
      "  37000/ 200000:2.016742\n",
      "  38000/ 200000:2.202362\n",
      "  39000/ 200000:2.103204\n",
      "  40000/ 200000:2.207656\n",
      "  41000/ 200000:2.129407\n",
      "  42000/ 200000:2.228317\n",
      "  43000/ 200000:2.266827\n",
      "  44000/ 200000:1.955719\n",
      "  45000/ 200000:2.309110\n",
      "  46000/ 200000:2.069192\n",
      "  47000/ 200000:1.945386\n",
      "  48000/ 200000:2.199371\n",
      "  49000/ 200000:2.377948\n",
      "  50000/ 200000:2.240095\n",
      "  51000/ 200000:2.412363\n",
      "  52000/ 200000:2.286212\n",
      "  53000/ 200000:2.045474\n",
      "  54000/ 200000:2.193192\n",
      "  55000/ 200000:2.152865\n",
      "  56000/ 200000:1.687171\n",
      "  57000/ 200000:2.195434\n",
      "  58000/ 200000:2.221381\n",
      "  59000/ 200000:2.571571\n",
      "  60000/ 200000:1.961469\n",
      "  61000/ 200000:1.915499\n",
      "  62000/ 200000:1.921711\n",
      "  63000/ 200000:2.219992\n",
      "  64000/ 200000:2.250364\n",
      "  65000/ 200000:2.584526\n",
      "  66000/ 200000:2.064458\n",
      "  67000/ 200000:2.063120\n",
      "  68000/ 200000:2.105143\n",
      "  69000/ 200000:2.241333\n",
      "  70000/ 200000:2.208219\n",
      "  71000/ 200000:2.206278\n",
      "  72000/ 200000:1.998032\n",
      "  73000/ 200000:2.056384\n",
      "  74000/ 200000:2.182494\n",
      "  75000/ 200000:2.130397\n",
      "  76000/ 200000:1.808506\n",
      "  77000/ 200000:1.969008\n",
      "  78000/ 200000:2.390544\n",
      "  79000/ 200000:1.892308\n",
      "  80000/ 200000:2.117220\n",
      "  81000/ 200000:1.998981\n",
      "  82000/ 200000:2.009232\n",
      "  83000/ 200000:2.166477\n",
      "  84000/ 200000:2.204380\n",
      "  85000/ 200000:1.899522\n",
      "  86000/ 200000:2.293955\n",
      "  87000/ 200000:2.127755\n",
      "  88000/ 200000:2.201831\n",
      "  89000/ 200000:2.181845\n",
      "  90000/ 200000:1.997191\n",
      "  91000/ 200000:2.019503\n",
      "  92000/ 200000:2.146299\n",
      "  93000/ 200000:2.163955\n",
      "  94000/ 200000:2.296969\n",
      "  95000/ 200000:1.927924\n",
      "  96000/ 200000:2.026222\n",
      "  97000/ 200000:2.174653\n",
      "  98000/ 200000:2.207819\n",
      "  99000/ 200000:2.214633\n",
      " 100000/ 200000:2.019790\n",
      " 101000/ 200000:2.236278\n",
      " 102000/ 200000:2.370311\n",
      " 103000/ 200000:2.267937\n",
      " 104000/ 200000:2.158860\n",
      " 105000/ 200000:2.014007\n",
      " 106000/ 200000:2.382483\n",
      " 107000/ 200000:2.072208\n",
      " 108000/ 200000:1.935400\n",
      " 109000/ 200000:2.064356\n",
      " 110000/ 200000:2.318238\n",
      " 111000/ 200000:2.102024\n",
      " 112000/ 200000:2.496536\n",
      " 113000/ 200000:1.748534\n",
      " 114000/ 200000:2.154701\n",
      " 115000/ 200000:2.171216\n",
      " 116000/ 200000:2.171998\n",
      " 117000/ 200000:1.911619\n",
      " 118000/ 200000:2.181217\n",
      " 119000/ 200000:2.250702\n",
      " 120000/ 200000:1.968152\n",
      " 121000/ 200000:2.305081\n",
      " 122000/ 200000:2.162120\n",
      " 123000/ 200000:2.282244\n",
      " 124000/ 200000:2.183408\n",
      " 125000/ 200000:2.072312\n",
      " 126000/ 200000:1.766595\n",
      " 127000/ 200000:2.141830\n",
      " 128000/ 200000:1.890841\n",
      " 129000/ 200000:2.015642\n",
      " 130000/ 200000:2.165483\n",
      " 131000/ 200000:1.965750\n",
      " 132000/ 200000:2.338665\n",
      " 133000/ 200000:2.086219\n",
      " 134000/ 200000:2.166972\n",
      " 135000/ 200000:1.900367\n",
      " 136000/ 200000:2.204503\n",
      " 137000/ 200000:2.058897\n",
      " 138000/ 200000:2.098933\n",
      " 139000/ 200000:2.083197\n",
      " 140000/ 200000:1.895901\n",
      " 141000/ 200000:2.282852\n",
      " 142000/ 200000:2.273362\n",
      " 143000/ 200000:1.969846\n",
      " 144000/ 200000:2.410343\n",
      " 145000/ 200000:2.220645\n",
      " 146000/ 200000:2.053991\n",
      " 147000/ 200000:2.346730\n",
      " 148000/ 200000:1.887557\n",
      " 149000/ 200000:2.188470\n",
      " 150000/ 200000:2.051759\n",
      " 151000/ 200000:2.150007\n",
      " 152000/ 200000:1.913374\n",
      " 153000/ 200000:2.069822\n",
      " 154000/ 200000:2.242981\n",
      " 155000/ 200000:2.062880\n",
      " 156000/ 200000:1.935594\n",
      " 157000/ 200000:1.926937\n",
      " 158000/ 200000:2.304847\n",
      " 159000/ 200000:2.060709\n",
      " 160000/ 200000:1.968386\n",
      " 161000/ 200000:1.943639\n",
      " 162000/ 200000:2.047257\n",
      " 163000/ 200000:2.169171\n",
      " 164000/ 200000:1.926291\n",
      " 165000/ 200000:1.970924\n",
      " 166000/ 200000:2.114212\n",
      " 167000/ 200000:2.221667\n",
      " 168000/ 200000:2.007095\n",
      " 169000/ 200000:2.168127\n",
      " 170000/ 200000:2.155185\n",
      " 171000/ 200000:1.944245\n",
      " 172000/ 200000:1.947706\n",
      " 173000/ 200000:2.148118\n",
      " 174000/ 200000:2.120542\n",
      " 175000/ 200000:2.177133\n",
      " 176000/ 200000:2.182220\n",
      " 177000/ 200000:2.252063\n",
      " 178000/ 200000:2.084907\n",
      " 179000/ 200000:2.098026\n",
      " 180000/ 200000:2.148946\n",
      " 181000/ 200000:2.022300\n",
      " 182000/ 200000:2.045557\n",
      " 183000/ 200000:2.093110\n",
      " 184000/ 200000:2.321440\n",
      " 185000/ 200000:1.928115\n",
      " 186000/ 200000:1.881705\n",
      " 187000/ 200000:2.195076\n",
      " 188000/ 200000:2.288686\n",
      " 189000/ 200000:2.137509\n",
      " 190000/ 200000:2.172977\n",
      " 191000/ 200000:2.144789\n",
      " 192000/ 200000:1.902641\n",
      " 193000/ 200000:2.184372\n",
      " 194000/ 200000:2.357593\n",
      " 195000/ 200000:2.244405\n",
      " 196000/ 200000:1.986707\n",
      " 197000/ 200000:1.950463\n",
      " 198000/ 200000:2.285804\n",
      " 199000/ 200000:2.194192\n"
     ]
    }
   ],
   "source": [
    "epochs = 200000\n",
    "batch_size = 64\n",
    "lossi = []\n",
    "\n",
    "for i in range(epochs):\n",
    "    #create mini batch\n",
    "    ix = torch.randint(0, X_tr.shape[0], (batch_size,))\n",
    "    Xb,yb = X_tr[ix],y_tr[ix] #batch \n",
    "    x = Xb\n",
    "    #forwad pass\n",
    "    for layer in layers:\n",
    "        x = layer(x)\n",
    "    loss = F.cross_entropy(x,yb)\n",
    "    \n",
    "    #backward\n",
    "    for p in parameters:\n",
    "        p.grad = None\n",
    "    loss.backward()\n",
    "    \n",
    "    lr = 0.1 if i<15000 else 0.01\n",
    "    for p in parameters:\n",
    "        p.data += -lr * p.grad\n",
    "    \n",
    "    if i % 1000 ==0 :\n",
    "        print(f\"{i:7d}/{epochs:7d}:{loss.item():4f}\")\n",
    "    lossi.append(loss.log10().item())\n",
    "   "
   ]
  },
  {
   "cell_type": "code",
   "execution_count": 140,
   "metadata": {},
   "outputs": [
    {
     "data": {
      "text/plain": [
       "[<matplotlib.lines.Line2D at 0x257b77a9970>]"
      ]
     },
     "execution_count": 140,
     "metadata": {},
     "output_type": "execute_result"
    },
    {
     "data": {
      "image/png": "[encoded data removed]",
      "text/plain": [
       "<Figure size 640x480 with 1 Axes>"
      ]
     },
     "metadata": {},
     "output_type": "display_data"
    }
   ],
   "source": [
    "plt.plot(lossi)"
   ]
  },
  {
   "cell_type": "code",
   "execution_count": 141,
   "metadata": {},
   "outputs": [
    {
     "data": {
      "text/plain": [
       "[<matplotlib.lines.Line2D at 0x257b78aff50>]"
      ]
     },
     "execution_count": 141,
     "metadata": {},
     "output_type": "execute_result"
    },
    {
     "data": {
      "image/png": "[encoded data removed]",
      "text/plain": [
       "<Figure size 640x480 with 1 Axes>"
      ]
     },
     "metadata": {},
     "output_type": "display_data"
    }
   ],
   "source": [
    "plt.plot(torch.tensor(lossi).view(-1,1000).mean(1))"
   ]
  },
  {
   "cell_type": "code",
   "execution_count": 142,
   "metadata": {},
   "outputs": [
    {
     "data": {
      "text/plain": [
       "torch.Size([200])"
      ]
     },
     "execution_count": 142,
     "metadata": {},
     "output_type": "execute_result"
    }
   ],
   "source": [
    "torch.tensor(lossi).view(-1,1000).mean(1).shape"
   ]
  },
  {
   "cell_type": "code",
   "execution_count": 143,
   "metadata": {},
   "outputs": [],
   "source": [
    "# put layers into eval mode\n",
    "for layer in layers:\n",
    "    layer.Training = False"
   ]
  },
  {
   "cell_type": "code",
   "execution_count": 144,
   "metadata": {},
   "outputs": [
    {
     "name": "stdout",
     "output_type": "stream",
     "text": [
      "train 2.073591947555542\n",
      "val 2.112902879714966\n"
     ]
    }
   ],
   "source": [
    "#evaluate the loss\n",
    "@torch.no_grad()\n",
    "def split_loss(split):\n",
    "    x,y = {\n",
    "        'train':(X_tr,y_tr),\n",
    "        'val':(X_dev,y_dev),\n",
    "        'test':(X_te,y_te),\n",
    "    }[split]\n",
    "    \n",
    "    for layer in layers:\n",
    "        x = layer(x)\n",
    "    loss = F.cross_entropy(x,y)\n",
    "    print(split,loss.item()) \n",
    "    \n",
    "split_loss('train')       \n",
    "split_loss('val')       "
   ]
  },
  {
   "cell_type": "code",
   "execution_count": 145,
   "metadata": {},
   "outputs": [
    {
     "ename": "IndexError",
     "evalue": "tensors used as indices must be long, int, byte or bool tensors",
     "output_type": "error",
     "traceback": [
      "\u001b[1;31m---------------------------------------------------------------------------\u001b[0m",
      "\u001b[1;31mIndexError\u001b[0m                                Traceback (most recent call last)",
      "Cell \u001b[1;32mIn[145], line 9\u001b[0m\n\u001b[0;32m      7\u001b[0m x \u001b[38;5;241m=\u001b[39m emb\u001b[38;5;241m.\u001b[39mview(emb\u001b[38;5;241m.\u001b[39mshape[\u001b[38;5;241m0\u001b[39m],\u001b[38;5;241m-\u001b[39m\u001b[38;5;241m1\u001b[39m)\n\u001b[0;32m      8\u001b[0m \u001b[38;5;28;01mfor\u001b[39;00m layer \u001b[38;5;129;01min\u001b[39;00m layers:\n\u001b[1;32m----> 9\u001b[0m     x \u001b[38;5;241m=\u001b[39m \u001b[43mlayer\u001b[49m\u001b[43m(\u001b[49m\u001b[43mx\u001b[49m\u001b[43m)\u001b[49m\n\u001b[0;32m     10\u001b[0m logits \u001b[38;5;241m=\u001b[39m x\n\u001b[0;32m     11\u001b[0m probs \u001b[38;5;241m=\u001b[39m F\u001b[38;5;241m.\u001b[39msoftmax(logits,dim \u001b[38;5;241m=\u001b[39m \u001b[38;5;241m1\u001b[39m)\n",
      "Cell \u001b[1;32mIn[136], line 65\u001b[0m, in \u001b[0;36mEmbedding.__call__\u001b[1;34m(self, x)\u001b[0m\n\u001b[0;32m     64\u001b[0m \u001b[38;5;28;01mdef\u001b[39;00m \u001b[38;5;21m__call__\u001b[39m(\u001b[38;5;28mself\u001b[39m,x):\n\u001b[1;32m---> 65\u001b[0m     \u001b[38;5;28mself\u001b[39m\u001b[38;5;241m.\u001b[39mout \u001b[38;5;241m=\u001b[39m \u001b[38;5;28;43mself\u001b[39;49m\u001b[38;5;241;43m.\u001b[39;49m\u001b[43mweight\u001b[49m\u001b[43m[\u001b[49m\u001b[43mx\u001b[49m\u001b[43m]\u001b[49m\n\u001b[0;32m     66\u001b[0m     \u001b[38;5;28;01mreturn\u001b[39;00m \u001b[38;5;28mself\u001b[39m\u001b[38;5;241m.\u001b[39mout\n",
      "\u001b[1;31mIndexError\u001b[0m: tensors used as indices must be long, int, byte or bool tensors"
     ]
    }
   ],
   "source": [
    "#sample from model\n",
    "for _ in range(20):\n",
    "    out = []\n",
    "    context = [0] * block_size\n",
    "    while True:\n",
    "        emb = C[torch.tensor([context])]\n",
    "        x = emb.view(emb.shape[0],-1)\n",
    "        for layer in layers:\n",
    "            x = layer(x)\n",
    "        logits = x\n",
    "        probs = F.softmax(logits,dim = 1)\n",
    "        #sample from the distribution\n",
    "        ix = torch.multinomial(probs,num_samples=1).item()\n",
    "        #shift the conetxt window and track the samples\n",
    "        context = context[1:] + [ix]\n",
    "        out.append(ix)\n",
    "        if ix == 0:\n",
    "            break\n",
    "    print(''.join(itos[i] for i in out))"
   ]
  }
 ],
 "metadata": {
  "kernelspec": {
   "display_name": "Python 3",
   "language": "python",
   "name": "python3"
  },
  "language_info": {
   "codemirror_mode": {
    "name": "ipython",
    "version": 3
   },
   "file_extension": ".py",
   "mimetype": "text/x-python",
   "name": "python",
   "nbconvert_exporter": "python",
   "pygments_lexer": "ipython3",
   "version": "3.12.6"
  }
 },
 "nbformat": 4,
 "nbformat_minor": 2
}
