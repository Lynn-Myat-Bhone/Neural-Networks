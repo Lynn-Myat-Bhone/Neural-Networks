{
 "cells": [
  {
   "cell_type": "code",
   "execution_count": 1,
   "metadata": {},
   "outputs": [],
   "source": [
    "import torch\n",
    "import torch.nn.functional as F\n",
    "import matplotlib.pyplot as plt"
   ]
  },
  {
   "cell_type": "code",
   "execution_count": 2,
   "metadata": {},
   "outputs": [
    {
     "data": {
      "text/plain": [
       "32033"
      ]
     },
     "execution_count": 2,
     "metadata": {},
     "output_type": "execute_result"
    }
   ],
   "source": [
    "words = open('names.txt','r').read().splitlines()\n",
    "len(words)"
   ]
  },
  {
   "cell_type": "code",
   "execution_count": 3,
   "metadata": {},
   "outputs": [
    {
     "data": {
      "text/plain": [
       "27"
      ]
     },
     "execution_count": 3,
     "metadata": {},
     "output_type": "execute_result"
    }
   ],
   "source": [
    "chars = sorted(list(set(''.join(words))))\n",
    "stoi = {s:i+1 for i,s in  enumerate(chars)}\n",
    "stoi['.'] = 0\n",
    "itos = {i:s for s,i in stoi.items()}\n",
    "vocab_size = len(itos)\n",
    "vocab_size"
   ]
  },
  {
   "cell_type": "code",
   "execution_count": 4,
   "metadata": {},
   "outputs": [],
   "source": [
    "import random\n",
    "random.seed(42)\n",
    "random.shuffle(words)"
   ]
  },
  {
   "cell_type": "code",
   "execution_count": 5,
   "metadata": {},
   "outputs": [],
   "source": [
    "#build dataset\n",
    "block_size = 3\n",
    "\n",
    "def build_dataset(words):\n",
    "    X,y = [],[]\n",
    "    for w in words:\n",
    "        context = [0] * block_size\n",
    "        for ch in w + '.':\n",
    "            ix = stoi[ch]\n",
    "            X.append(context)\n",
    "            y.append(ix)\n",
    "            context = context[1:] + [ix]\n",
    "    X = torch.tensor(X)\n",
    "    y = torch.tensor(y)    \n",
    "    return X,y\n",
    "\n",
    "\n",
    "n1 = int(0.8 * len(words))\n",
    "n2 = int(0.9 * len(words))\n",
    "X_tr,y_tr = build_dataset(words[:n1])\n",
    "X_dev,y_dev = build_dataset(words[n1:n2])    \n",
    "X_te , y_te = build_dataset(words[n2:])"
   ]
  },
  {
   "cell_type": "code",
   "execution_count": 6,
   "metadata": {},
   "outputs": [
    {
     "data": {
      "text/plain": [
       "tensor([ 0,  0, 25])"
      ]
     },
     "execution_count": 6,
     "metadata": {},
     "output_type": "execute_result"
    }
   ],
   "source": [
    "X_tr[1]"
   ]
  },
  {
   "cell_type": "code",
   "execution_count": 7,
   "metadata": {},
   "outputs": [
    {
     "name": "stdout",
     "output_type": "stream",
     "text": [
      "... ----> y\n",
      "..y ----> u\n",
      ".yu ----> h\n",
      "yuh ----> e\n",
      "uhe ----> n\n"
     ]
    }
   ],
   "source": [
    "for x,y in zip(X_tr[:5],y_tr[:5]):\n",
    "    print(''.join(itos[ix.item()] for ix in x),'---->',itos[y.item()])"
   ]
  },
  {
   "cell_type": "code",
   "execution_count": 21,
   "metadata": {},
   "outputs": [],
   "source": [
    "class Linear:\n",
    "    def __init__(self,fan_in,fan_out,bias = True):\n",
    "        self.weight = torch.randn(fan_in,fan_out) /fan_in **0.5 #initalizing weight\n",
    "        self.bias = torch.randn(fan_out) if bias else None\n",
    "    \n",
    "    def __call__(self, x):\n",
    "        self.out = x @ self.weight\n",
    "        if self.bias is not None:\n",
    "            self.out += self.bias\n",
    "        return self.out\n",
    "    \n",
    "    def parameters(self):\n",
    "        return [self.weight] + ([] if self.bias is None else[self.bias])\n",
    "    \n",
    "class BatchNorm:\n",
    "    def __init__(self,dim,eps = 1e-5,momentum = 0.1):\n",
    "        self.eps = eps\n",
    "        self.momentum = momentum\n",
    "        \"\"\"\n",
    "        if True mean and variance are computed from the current batch.\n",
    "        Instead of using batch statistics, it uses the running mean and variance\n",
    "        collected during training.\n",
    "        \"\"\"\n",
    "        self.Training = True \n",
    "    #backward\n",
    "        self.gamma = torch.ones(dim)\n",
    "        self.beta = torch.zeros(dim)\n",
    "    # training with running 'momentum update'\n",
    "        self.running_mean = torch.zeros(dim)\n",
    "        self.running_var = torch.ones(dim)\n",
    "    \n",
    "    def __call__(self,x):\n",
    "        if self.Training:\n",
    "            x_mean = x.mean(0,keepdim=True)\n",
    "            x_var = x.var(0,keepdim=True)\n",
    "        else:\n",
    "            x_mean = self.running_mean\n",
    "            x_var = self.running_var\n",
    "        #Normalize\n",
    "        xhat = (x-x_mean)/torch.sqrt(x_var + self.eps)\n",
    "        self.out =  self.gamma * xhat + self.beta\n",
    "        #update buffer\n",
    "        if self.Training:\n",
    "            with torch.no_grad():\n",
    "                self.running_mean = (1-self.momentum) * self.running_mean + self.momentum * x_mean\n",
    "                self.running_var = (1 - self.momentum) * self.running_var + self.momentum * x_var\n",
    "        return self.out\n",
    "    \n",
    "    def parameters(self):\n",
    "        return[self.gamma,self.beta]\n",
    "                \n",
    "\n",
    "class Tanh:\n",
    "    def __call__(self,x):\n",
    "        self.out = torch.tanh(x)\n",
    "        return self.out\n",
    "    def parameters(self):\n",
    "        return []\n",
    "            \n",
    "\n",
    "class Embedding:\n",
    "    def __init__(self,num_embedding,embedding_dim):\n",
    "        self.weight = torch.randn((num_embedding,embedding_dim))\n",
    "    def __call__(self,x):\n",
    "        self.out = self.weight[x]\n",
    "        return self.out\n",
    "    def parameters(self):\n",
    "        return[self.weight]\n",
    "    \n",
    "class Flatten:\n",
    "    def __call__(self,x):\n",
    "        self.out = x.view(x.shape[0],-1)\n",
    "        return self.out\n",
    "    def parameters(self):\n",
    "        return []\n",
    "\n",
    "class Sequential:\n",
    "    def __init__(self,layers):\n",
    "        self.layers = layers\n",
    "        \n",
    "    def __call__(self,x):\n",
    "        for layer in self.layers:\n",
    "            x = layer(x)\n",
    "        self.out = x\n",
    "        return self.out\n",
    "\n",
    "    def parameters(self):\n",
    "        return [p for layer in self.layers for p in layer.parameters()]\n",
    "        "
   ]
  },
  {
   "cell_type": "code",
   "execution_count": 9,
   "metadata": {},
   "outputs": [
    {
     "data": {
      "text/plain": [
       "<torch._C.Generator at 0x19224322310>"
      ]
     },
     "execution_count": 9,
     "metadata": {},
     "output_type": "execute_result"
    }
   ],
   "source": [
    "torch.manual_seed(42)"
   ]
  },
  {
   "cell_type": "code",
   "execution_count": 22,
   "metadata": {},
   "outputs": [
    {
     "name": "stdout",
     "output_type": "stream",
     "text": [
      "12097\n"
     ]
    }
   ],
   "source": [
    "n_emb = 10  # the dim of chas embedding vectors\n",
    "n_hidden = 200 # num of neurons in hidden layer of the MLP\n",
    "model = Sequential([\n",
    "    Embedding(vocab_size,n_emb),\n",
    "    Flatten(),\n",
    "    Linear(n_emb*block_size,n_hidden,bias=False),BatchNorm(n_hidden),Tanh(),\n",
    "    Linear(n_hidden,vocab_size)\n",
    "])\n",
    "\n",
    "with torch.no_grad():\n",
    "    layers[-1].weight += 0.1 #last layer make less confident\n",
    "\n",
    "parameters = model.parameters()\n",
    "print(sum(p.nelement() for p in parameters)) # total Parameters\n",
    "for p in parameters:\n",
    "    p.requires_grad = True"
   ]
  },
  {
   "cell_type": "code",
   "execution_count": 23,
   "metadata": {},
   "outputs": [
    {
     "name": "stdout",
     "output_type": "stream",
     "text": [
      "      0/ 200000:3.816212\n",
      "   1000/ 200000:2.436237\n",
      "   2000/ 200000:2.459527\n",
      "   3000/ 200000:2.244724\n",
      "   4000/ 200000:2.096338\n",
      "   5000/ 200000:2.291623\n",
      "   6000/ 200000:2.251402\n",
      "   7000/ 200000:2.087428\n",
      "   8000/ 200000:2.149114\n",
      "   9000/ 200000:2.207032\n",
      "  10000/ 200000:2.361435\n",
      "  11000/ 200000:2.147051\n",
      "  12000/ 200000:2.189817\n",
      "  13000/ 200000:2.179396\n",
      "  14000/ 200000:2.186771\n",
      "  15000/ 200000:2.222023\n",
      "  16000/ 200000:2.297998\n",
      "  17000/ 200000:2.032361\n",
      "  18000/ 200000:2.191801\n",
      "  19000/ 200000:1.948480\n",
      "  20000/ 200000:1.952637\n",
      "  21000/ 200000:2.317223\n",
      "  22000/ 200000:2.101657\n",
      "  23000/ 200000:1.869275\n",
      "  24000/ 200000:2.044770\n",
      "  25000/ 200000:2.199614\n",
      "  26000/ 200000:2.252892\n",
      "  27000/ 200000:2.190793\n",
      "  28000/ 200000:2.437472\n",
      "  29000/ 200000:2.428718\n",
      "  30000/ 200000:2.420080\n",
      "  31000/ 200000:2.178161\n",
      "  32000/ 200000:2.061903\n",
      "  33000/ 200000:2.111524\n",
      "  34000/ 200000:2.003339\n",
      "  35000/ 200000:1.800871\n",
      "  36000/ 200000:2.155500\n",
      "  37000/ 200000:2.314215\n",
      "  38000/ 200000:2.310822\n",
      "  39000/ 200000:2.013570\n",
      "  40000/ 200000:2.108985\n",
      "  41000/ 200000:2.177248\n",
      "  42000/ 200000:2.202299\n",
      "  43000/ 200000:2.097101\n",
      "  44000/ 200000:2.072567\n",
      "  45000/ 200000:1.991709\n",
      "  46000/ 200000:2.115864\n",
      "  47000/ 200000:2.023746\n",
      "  48000/ 200000:2.132469\n",
      "  49000/ 200000:2.287953\n",
      "  50000/ 200000:2.204279\n",
      "  51000/ 200000:2.174839\n",
      "  52000/ 200000:2.423164\n",
      "  53000/ 200000:1.769305\n",
      "  54000/ 200000:2.340615\n",
      "  55000/ 200000:2.100849\n",
      "  56000/ 200000:2.141711\n",
      "  57000/ 200000:2.409007\n",
      "  58000/ 200000:2.477933\n",
      "  59000/ 200000:2.175772\n",
      "  60000/ 200000:2.021159\n",
      "  61000/ 200000:2.200278\n",
      "  62000/ 200000:2.172558\n",
      "  63000/ 200000:2.201548\n",
      "  64000/ 200000:2.017405\n",
      "  65000/ 200000:2.178205\n",
      "  66000/ 200000:2.008332\n",
      "  67000/ 200000:2.193880\n",
      "  68000/ 200000:1.946456\n",
      "  69000/ 200000:2.000920\n",
      "  70000/ 200000:2.299522\n",
      "  71000/ 200000:1.962702\n",
      "  72000/ 200000:2.208286\n",
      "  73000/ 200000:2.259720\n",
      "  74000/ 200000:1.932896\n",
      "  75000/ 200000:2.297336\n",
      "  76000/ 200000:2.258460\n",
      "  77000/ 200000:1.971373\n",
      "  78000/ 200000:2.079826\n",
      "  79000/ 200000:2.177176\n",
      "  80000/ 200000:1.955166\n",
      "  81000/ 200000:2.325263\n",
      "  82000/ 200000:2.221246\n",
      "  83000/ 200000:2.115644\n",
      "  84000/ 200000:2.018932\n",
      "  85000/ 200000:2.155409\n",
      "  86000/ 200000:2.192971\n",
      "  87000/ 200000:2.165674\n",
      "  88000/ 200000:2.423443\n",
      "  89000/ 200000:2.105856\n",
      "  90000/ 200000:1.979996\n",
      "  91000/ 200000:2.053647\n",
      "  92000/ 200000:2.304309\n",
      "  93000/ 200000:1.983026\n",
      "  94000/ 200000:1.987829\n",
      "  95000/ 200000:1.935269\n",
      "  96000/ 200000:2.142850\n",
      "  97000/ 200000:2.144560\n",
      "  98000/ 200000:2.013708\n",
      "  99000/ 200000:1.895610\n",
      " 100000/ 200000:2.120247\n",
      " 101000/ 200000:1.887578\n",
      " 102000/ 200000:2.163809\n",
      " 103000/ 200000:2.119725\n",
      " 104000/ 200000:2.144441\n",
      " 105000/ 200000:2.072350\n",
      " 106000/ 200000:1.990348\n",
      " 107000/ 200000:1.966568\n",
      " 108000/ 200000:2.069711\n",
      " 109000/ 200000:2.135473\n",
      " 110000/ 200000:1.986911\n",
      " 111000/ 200000:2.249639\n",
      " 112000/ 200000:1.891178\n",
      " 113000/ 200000:2.116431\n",
      " 114000/ 200000:1.973255\n",
      " 115000/ 200000:2.151447\n",
      " 116000/ 200000:2.387196\n",
      " 117000/ 200000:2.000176\n",
      " 118000/ 200000:2.146877\n",
      " 119000/ 200000:1.903588\n",
      " 120000/ 200000:2.353415\n",
      " 121000/ 200000:2.211507\n",
      " 122000/ 200000:1.878384\n",
      " 123000/ 200000:2.297112\n",
      " 124000/ 200000:2.288950\n",
      " 125000/ 200000:2.226137\n",
      " 126000/ 200000:2.041550\n",
      " 127000/ 200000:2.101268\n",
      " 128000/ 200000:2.400771\n",
      " 129000/ 200000:2.228651\n",
      " 130000/ 200000:1.880857\n",
      " 131000/ 200000:2.015425\n",
      " 132000/ 200000:1.970072\n",
      " 133000/ 200000:1.992744\n",
      " 134000/ 200000:2.182378\n",
      " 135000/ 200000:2.276577\n",
      " 136000/ 200000:2.169001\n",
      " 137000/ 200000:2.455021\n",
      " 138000/ 200000:1.795432\n",
      " 139000/ 200000:1.830243\n",
      " 140000/ 200000:2.054333\n",
      " 141000/ 200000:2.062475\n",
      " 142000/ 200000:2.025323\n",
      " 143000/ 200000:2.431265\n",
      " 144000/ 200000:2.221854\n",
      " 145000/ 200000:1.916104\n",
      " 146000/ 200000:2.319071\n",
      " 147000/ 200000:2.123330\n",
      " 148000/ 200000:1.827826\n",
      " 149000/ 200000:1.838638\n",
      " 150000/ 200000:2.201131\n",
      " 151000/ 200000:2.261577\n",
      " 152000/ 200000:2.019401\n",
      " 153000/ 200000:2.121742\n",
      " 154000/ 200000:2.181793\n",
      " 155000/ 200000:2.071134\n",
      " 156000/ 200000:2.179553\n",
      " 157000/ 200000:2.323435\n",
      " 158000/ 200000:2.097145\n",
      " 159000/ 200000:2.288621\n",
      " 160000/ 200000:2.181985\n",
      " 161000/ 200000:1.927235\n",
      " 162000/ 200000:2.363139\n",
      " 163000/ 200000:2.148613\n",
      " 164000/ 200000:2.030646\n",
      " 165000/ 200000:1.949667\n",
      " 166000/ 200000:2.209544\n",
      " 167000/ 200000:2.153080\n",
      " 168000/ 200000:1.921932\n",
      " 169000/ 200000:2.128423\n",
      " 170000/ 200000:2.059035\n",
      " 171000/ 200000:2.054015\n",
      " 172000/ 200000:2.280520\n",
      " 173000/ 200000:2.067184\n",
      " 174000/ 200000:2.044145\n",
      " 175000/ 200000:2.118334\n",
      " 176000/ 200000:2.287494\n",
      " 177000/ 200000:1.907780\n",
      " 178000/ 200000:1.846432\n",
      " 179000/ 200000:2.184842\n",
      " 180000/ 200000:2.501337\n",
      " 181000/ 200000:1.883530\n",
      " 182000/ 200000:2.197514\n",
      " 183000/ 200000:1.706876\n",
      " 184000/ 200000:2.356613\n",
      " 185000/ 200000:2.179047\n",
      " 186000/ 200000:2.230353\n",
      " 187000/ 200000:1.988938\n",
      " 188000/ 200000:2.110983\n",
      " 189000/ 200000:2.112371\n",
      " 190000/ 200000:1.838263\n",
      " 191000/ 200000:1.809809\n",
      " 192000/ 200000:2.260829\n",
      " 193000/ 200000:2.108343\n",
      " 194000/ 200000:1.998318\n",
      " 195000/ 200000:1.675092\n",
      " 196000/ 200000:2.060787\n",
      " 197000/ 200000:1.978722\n",
      " 198000/ 200000:2.313132\n",
      " 199000/ 200000:2.186494\n"
     ]
    }
   ],
   "source": [
    "epochs = 200000\n",
    "batch_size = 64\n",
    "lossi = []\n",
    "\n",
    "for i in range(epochs):\n",
    "    #create mini batch\n",
    "    ix = torch.randint(0, X_tr.shape[0], (batch_size,))\n",
    "    Xb,yb = X_tr[ix],y_tr[ix] #batch \n",
    "    #forwad pass\n",
    "    logits = model(Xb)\n",
    "    loss = F.cross_entropy(logits,yb)\n",
    "    \n",
    "    #backward\n",
    "    for p in parameters:\n",
    "        p.grad = None\n",
    "    loss.backward()\n",
    "    \n",
    "    lr = 0.1 if i<15000 else 0.01\n",
    "    for p in parameters:\n",
    "        p.data += -lr * p.grad\n",
    "    \n",
    "    if i % 1000 ==0 :\n",
    "        print(f\"{i:7d}/{epochs:7d}:{loss.item():4f}\")\n",
    "    lossi.append(loss.log10().item())\n",
    "   "
   ]
  },
  {
   "cell_type": "code",
   "execution_count": 24,
   "metadata": {},
   "outputs": [
    {
     "data": {
      "text/plain": [
       "[<matplotlib.lines.Line2D at 0x192297552e0>]"
      ]
     },
     "execution_count": 24,
     "metadata": {},
     "output_type": "execute_result"
    },
    {
     "data": {
      "image/png": "[encoded data removed]",
      "text/plain": [
       "<Figure size 640x480 with 1 Axes>"
      ]
     },
     "metadata": {},
     "output_type": "display_data"
    }
   ],
   "source": [
    "plt.plot(lossi)"
   ]
  },
  {
   "cell_type": "code",
   "execution_count": 25,
   "metadata": {},
   "outputs": [
    {
     "data": {
      "text/plain": [
       "[<matplotlib.lines.Line2D at 0x192297c52e0>]"
      ]
     },
     "execution_count": 25,
     "metadata": {},
     "output_type": "execute_result"
    },
    {
     "data": {
      "image/png": "[encoded data removed]",
      "text/plain": [
       "<Figure size 640x480 with 1 Axes>"
      ]
     },
     "metadata": {},
     "output_type": "display_data"
    }
   ],
   "source": [
    "plt.plot(torch.tensor(lossi).view(-1,1000).mean(1))"
   ]
  },
  {
   "cell_type": "code",
   "execution_count": 26,
   "metadata": {},
   "outputs": [
    {
     "data": {
      "text/plain": [
       "torch.Size([200])"
      ]
     },
     "execution_count": 26,
     "metadata": {},
     "output_type": "execute_result"
    }
   ],
   "source": [
    "torch.tensor(lossi).view(-1,1000).mean(1).shape"
   ]
  },
  {
   "cell_type": "code",
   "execution_count": 27,
   "metadata": {},
   "outputs": [],
   "source": [
    "# put layers into eval mode\n",
    "for layer in model.layers:\n",
    "    layer.Training = False"
   ]
  },
  {
   "cell_type": "code",
   "execution_count": 28,
   "metadata": {},
   "outputs": [
    {
     "name": "stdout",
     "output_type": "stream",
     "text": [
      "train 2.0748403072357178\n",
      "val 2.1163761615753174\n"
     ]
    }
   ],
   "source": [
    "#evaluate the loss\n",
    "@torch.no_grad()\n",
    "def split_loss(split):\n",
    "    x,y = {\n",
    "        'train':(X_tr,y_tr),\n",
    "        'val':(X_dev,y_dev),\n",
    "        'test':(X_te,y_te),\n",
    "    }[split]\n",
    "    \n",
    "    logits = model(x)\n",
    "    loss = F.cross_entropy(logits,y)\n",
    "    print(split,loss.item()) \n",
    "    \n",
    "split_loss('train')       \n",
    "split_loss('val')       "
   ]
  },
  {
   "cell_type": "code",
   "execution_count": 29,
   "metadata": {},
   "outputs": [
    {
     "name": "stdout",
     "output_type": "stream",
     "text": [
      "fro.\n",
      "leces.\n",
      "najanson.\n",
      "maraim.\n",
      "joan.\n",
      "amileigh.\n",
      "pael.\n",
      "orlisamiah.\n",
      "beckydeniyah.\n",
      "cris.\n",
      "jamoni.\n",
      "kord.\n",
      "jouri.\n",
      "lousaylian.\n",
      "hada.\n",
      "absreee.\n",
      "meyah.\n",
      "neo.\n",
      "savrabiwaan.\n",
      "lain.\n"
     ]
    }
   ],
   "source": [
    "#sample from model\n",
    "for _ in range(20):\n",
    "    out = []\n",
    "    context = [0] * block_size\n",
    "    while True:\n",
    "        logits = model(torch.tensor([context]))\n",
    "        probs = F.softmax(logits,dim = 1)\n",
    "        #sample from the distribution\n",
    "        ix = torch.multinomial(probs,num_samples=1).item()\n",
    "        #shift the conetxt window and track the samples\n",
    "        context = context[1:] + [ix]\n",
    "        out.append(ix)\n",
    "        if ix == 0:\n",
    "            break\n",
    "    print(''.join(itos[i] for i in out))"
   ]
  }
 ],
 "metadata": {
  "kernelspec": {
   "display_name": "Python 3",
   "language": "python",
   "name": "python3"
  },
  "language_info": {
   "codemirror_mode": {
    "name": "ipython",
    "version": 3
   },
   "file_extension": ".py",
   "mimetype": "text/x-python",
   "name": "python",
   "nbconvert_exporter": "python",
   "pygments_lexer": "ipython3",
   "version": "3.12.6"
  }
 },
 "nbformat": 4,
 "nbformat_minor": 2
}
